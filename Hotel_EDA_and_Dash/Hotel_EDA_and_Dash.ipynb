{
 "cells": [
  {
   "cell_type": "markdown",
   "metadata": {},
   "source": [
    "## Prerequisites"
   ]
  },
  {
   "cell_type": "code",
   "execution_count": 2,
   "metadata": {},
   "outputs": [],
   "source": [
    "import pandas as pd\n",
    "import seaborn as sns\n",
    "import matplotlib.pyplot as plt\n",
    "import plotly.express as px\n",
    "import plotly.graph_objects as go\n",
    "import numpy as np\n",
    "\n",
    "import geopandas as gpd\n",
    "import regex as re\n",
    "import dash\n",
    "from dash import html,dcc, Dash"
   ]
  },
  {
   "attachments": {},
   "cell_type": "markdown",
   "metadata": {},
   "source": [
    "### Importing review dataset and countrycode dataset"
   ]
  },
  {
   "cell_type": "code",
   "execution_count": 3,
   "metadata": {},
   "outputs": [],
   "source": [
    "reviews = pd.read_csv('data/Hotel_Reviews.csv')\n",
    "cc = pd.read_csv('data/iso_country.csv')"
   ]
  },
  {
   "attachments": {},
   "cell_type": "markdown",
   "metadata": {},
   "source": [
    "## Cleaning the tables"
   ]
  },
  {
   "cell_type": "code",
   "execution_count": 3,
   "metadata": {},
   "outputs": [],
   "source": [
    "reviews.Reviewer_Nationality = reviews.Reviewer_Nationality.str.strip()"
   ]
  },
  {
   "cell_type": "code",
   "execution_count": 4,
   "metadata": {},
   "outputs": [],
   "source": [
    "reviews.loc[reviews.Reviewer_Nationality == 'Abkhazia Georgia','Reviewer_Nationality'] = 'Georgia'\n",
    "reviews.loc[reviews.Reviewer_Nationality == 'Isle of Man','Reviewer_Nationality'] = 'United Kingdom'\n",
    "reviews.loc[reviews.Reviewer_Nationality == 'United States Minor Outlying Islands','Reviewer_Nationality'] = 'United States of America'\n",
    "reviews.loc[reviews.Reviewer_Nationality == 'U S Virgin Islands','Reviewer_Nationality'] = 'United States of America'\n",
    "reviews.loc[reviews.Reviewer_Nationality == 'South Sudan','Reviewer_Nationality'] = 'Sudan'\n",
    "reviews.loc[reviews.Reviewer_Nationality == 'French Guana','Reviewer_Nationality'] = 'French Guiana'\n",
    "reviews.loc[reviews.Reviewer_Nationality == 'Crimea','Reviewer_Nationality'] = 'Ukraine'\n"
   ]
  },
  {
   "cell_type": "code",
   "execution_count": 5,
   "metadata": {},
   "outputs": [],
   "source": [
    "cc.rename(columns={'English short name lower case':'Reviewer_Nationality'},inplace=True)\n",
    "cc.loc[cc['Reviewer_Nationality'] == 'United States','Reviewer_Nationality'] = 'United States of America'"
   ]
  },
  {
   "cell_type": "code",
   "execution_count": 6,
   "metadata": {},
   "outputs": [],
   "source": [
    "asn = reviews.copy()\n",
    "asn = asn.groupby('Reviewer_Nationality')['Reviewer_Score'].agg(['size','mean'])\n",
    "asn.reset_index(inplace=True)"
   ]
  },
  {
   "cell_type": "code",
   "execution_count": 7,
   "metadata": {},
   "outputs": [],
   "source": [
    "asn.drop(0,axis=0,inplace=True) ## Dropping all reviews without nationality"
   ]
  },
  {
   "cell_type": "code",
   "execution_count": 8,
   "metadata": {},
   "outputs": [],
   "source": [
    "asn = asn.loc[asn['size'] >= 3]"
   ]
  },
  {
   "cell_type": "code",
   "execution_count": 9,
   "metadata": {},
   "outputs": [],
   "source": [
    "asn.rename(columns={'mean':'Reviewer_Score'},inplace=True)"
   ]
  },
  {
   "cell_type": "code",
   "execution_count": 10,
   "metadata": {},
   "outputs": [],
   "source": [
    "asn = asn.set_index('Reviewer_Nationality').join(cc.set_index('Reviewer_Nationality'))\n",
    "asn.reset_index(inplace=True)"
   ]
  },
  {
   "cell_type": "code",
   "execution_count": 11,
   "metadata": {},
   "outputs": [],
   "source": [
    "asn = asn.round({'Reviewer_Score':2})"
   ]
  },
  {
   "cell_type": "code",
   "execution_count": 12,
   "metadata": {},
   "outputs": [],
   "source": [
    "asn.drop(['Alpha-2 code','Numeric code','ISO 3166-2'],axis=1,inplace=True)"
   ]
  },
  {
   "cell_type": "code",
   "execution_count": 13,
   "metadata": {},
   "outputs": [],
   "source": [
    "asn.loc[asn['Reviewer_Nationality'] == 'United States of America','Alpha-3 code'] = 'USA'\n",
    "asn.loc[asn['Reviewer_Nationality'] == 'Syria','Alpha-3 code'] = 'SYR'\n",
    "asn.loc[asn['Reviewer_Nationality'] == 'Antigua Barbuda','Alpha-3 code'] = 'ATG'\n",
    "asn.loc[asn['Reviewer_Nationality'] == 'British Virgin Islands','Alpha-3 code'] = 'VGB'\n",
    "asn.loc[asn['Reviewer_Nationality'] == 'Brunei','Alpha-3 code'] = 'BRN'\n",
    "asn.loc[asn['Reviewer_Nationality'] == 'Central Africa Republic','Alpha-3 code'] = 'CAF'\n",
    "asn.loc[asn['Reviewer_Nationality'] == 'Cocos K I','Alpha-3 code'] = 'CCK'\n",
    "asn.loc[asn['Reviewer_Nationality'] == 'Democratic Republic of the Congo','Alpha-3 code'] = 'COG'\n",
    "asn.loc[asn['Reviewer_Nationality'] == 'Congo','Alpha-3 code'] = 'COD'\n",
    "asn.loc[asn['Reviewer_Nationality'] == 'East Timor','Alpha-3 code'] = 'TLS'\n",
    "asn.loc[asn['Reviewer_Nationality'] == 'Falkland Islands Malvinas','Alpha-3 code'] = 'FLK'\n",
    "asn.loc[asn['Reviewer_Nationality'] == 'Hong Kong','Alpha-3 code'] = 'HKG'\n",
    "asn.loc[asn['Reviewer_Nationality'] == 'Laos','Alpha-3 code'] = 'LAO'\n",
    "asn.loc[asn['Reviewer_Nationality'] == 'Libya','Alpha-3 code'] = 'LBY'\n",
    "asn.loc[asn['Reviewer_Nationality'] == 'Macau','Alpha-3 code'] = 'MAC'\n",
    "asn.loc[asn['Reviewer_Nationality'] == 'Macedonia','Alpha-3 code'] = 'MKD'\n",
    "asn.loc[asn['Reviewer_Nationality'] == 'Moldova','Alpha-3 code'] = 'MDA'\n",
    "asn.loc[asn['Reviewer_Nationality'] == 'Palestinian Territory','Alpha-3 code'] = 'PSE'\n",
    "asn.loc[asn['Reviewer_Nationality'] == 'Saint Barts','Alpha-3 code'] = 'BLM'\n",
    "asn.loc[asn['Reviewer_Nationality'] == 'Saint Vincent Grenadines','Alpha-3 code'] = 'VCT'\n",
    "asn.loc[asn['Reviewer_Nationality'] == 'St Maarten','Alpha-3 code'] = 'MAF'\n",
    "asn.loc[asn['Reviewer_Nationality'] == 'St Pierre and Miquelon','Alpha-3 code'] = 'SPM'\n",
    "asn.loc[asn['Reviewer_Nationality'] == 'Svalbard Jan Mayen','Alpha-3 code'] = 'SJM'\n",
    "asn.loc[asn['Reviewer_Nationality'] == 'Turks Caicos Islands','Alpha-3 code'] = 'TCA'\n",
    "asn.loc[asn['Reviewer_Nationality'] == 'Vatican City','Alpha-3 code'] = 'VAT'\n"
   ]
  },
  {
   "cell_type": "markdown",
   "metadata": {},
   "source": [
    "## Create Average awarded score per reviewer nation table"
   ]
  },
  {
   "attachments": {},
   "cell_type": "markdown",
   "metadata": {},
   "source": [
    "## Visualizing Score Awarded by country"
   ]
  },
  {
   "cell_type": "code",
   "execution_count": 14,
   "metadata": {},
   "outputs": [
    {
     "data": {
      "application/vnd.plotly.v1+json": {
       "config": {
        "plotlyServerURL": "https://plot.ly"
       },
       "data": [
        {
         "autocolorscale": false,
         "colorbar": {
          "title": {
           "text": "Reviewscore"
          }
         },
         "colorscale": [
          [
           0,
           "rgb(165,0,38)"
          ],
          [
           0.1,
           "rgb(215,48,39)"
          ],
          [
           0.2,
           "rgb(244,109,67)"
          ],
          [
           0.3,
           "rgb(253,174,97)"
          ],
          [
           0.4,
           "rgb(254,224,139)"
          ],
          [
           0.5,
           "rgb(255,255,191)"
          ],
          [
           0.6,
           "rgb(217,239,139)"
          ],
          [
           0.7,
           "rgb(166,217,106)"
          ],
          [
           0.8,
           "rgb(102,189,99)"
          ],
          [
           0.9,
           "rgb(26,152,80)"
          ],
          [
           1,
           "rgb(0,104,55)"
          ]
         ],
         "locations": [
          "AFG",
          "ALB",
          "DZA",
          "AND",
          "AGO",
          "ATA",
          "ATG",
          "ARG",
          "ARM",
          "ABW",
          "AUS",
          "AUT",
          "AZE",
          "BHS",
          "BHR",
          "BGD",
          "BRB",
          "BLR",
          "BEL",
          "BLZ",
          "BEN",
          "BMU",
          "BTN",
          "BOL",
          null,
          "BIH",
          "BWA",
          "BRA",
          "VGB",
          "BRN",
          "BGR",
          "BDI",
          "KHM",
          "CMR",
          "CAN",
          "CYM",
          "CAF",
          "CHL",
          "CHN",
          "COL",
          "COD",
          "CRI",
          "HRV",
          null,
          "CYP",
          "CZE",
          "COG",
          "DNK",
          "DMA",
          "DOM",
          "TLS",
          "ECU",
          "EGY",
          "SLV",
          "EST",
          "ETH",
          "FLK",
          "FRO",
          "FJI",
          "FIN",
          "FRA",
          "GUF",
          "PYF",
          "GAB",
          "GMB",
          "GEO",
          "DEU",
          "GHA",
          "GIB",
          "GRC",
          "GRD",
          "GLP",
          "GUM",
          "GTM",
          "GGY",
          "GUY",
          "HTI",
          "HND",
          "HKG",
          "HUN",
          "ISL",
          "IND",
          "IDN",
          "IRN",
          "IRQ",
          "IRL",
          "ISR",
          "ITA",
          null,
          "JAM",
          "JPN",
          "JEY",
          "JOR",
          "KAZ",
          "KEN",
          null,
          "KWT",
          "KGZ",
          "LAO",
          "LVA",
          "LBN",
          "LSO",
          "LBR",
          "LBY",
          "LIE",
          "LTU",
          "LUX",
          "MAC",
          "MKD",
          "MDG",
          "MWI",
          "MYS",
          "MDV",
          "MLI",
          "MLT",
          "MTQ",
          "MRT",
          "MUS",
          "MEX",
          "MDA",
          "MCO",
          "MNG",
          "MNE",
          "MAR",
          "MOZ",
          "MMR",
          "NAM",
          "NPL",
          "NLD",
          "NCL",
          "NZL",
          "NIC",
          "NGA",
          "NOR",
          "OMN",
          "PAK",
          "PSE",
          "PAN",
          "PNG",
          "PRY",
          "PER",
          "PHL",
          "POL",
          "PRT",
          "PRI",
          "QAT",
          "REU",
          "ROU",
          "RUS",
          "RWA",
          "BLM",
          "KNA",
          "LCA",
          "MAF",
          "WSM",
          "SMR",
          "SAU",
          "SEN",
          "SRB",
          "SYC",
          "SLE",
          "SGP",
          "SVK",
          "SVN",
          "SOM",
          "ZAF",
          "KOR",
          "ESP",
          "LKA",
          "MAF",
          "SDN",
          "SUR",
          "SWZ",
          "SWE",
          "CHE",
          "SYR",
          "TWN",
          "TJK",
          "TZA",
          "THA",
          "TGO",
          "TTO",
          "TUN",
          "TUR",
          "TKM",
          "TCA",
          "UGA",
          "UKR",
          "ARE",
          "GBR",
          "USA",
          "URY",
          "UZB",
          "VUT",
          "VEN",
          "VNM",
          "YEM",
          "ZMB",
          "ZWE"
         ],
         "marker": {
          "line": {
           "color": "darkgray",
           "width": 1
          }
         },
         "text": [
          "Afghanistan",
          "Albania",
          "Algeria",
          "Andorra",
          "Angola",
          "Antarctica",
          "Antigua Barbuda",
          "Argentina",
          "Armenia",
          "Aruba",
          "Australia",
          "Austria",
          "Azerbaijan",
          "Bahamas",
          "Bahrain",
          "Bangladesh",
          "Barbados",
          "Belarus",
          "Belgium",
          "Belize",
          "Benin",
          "Bermuda",
          "Bhutan",
          "Bolivia",
          "Bonaire St Eustatius and Saba",
          "Bosnia and Herzegovina",
          "Botswana",
          "Brazil",
          "British Virgin Islands",
          "Brunei",
          "Bulgaria",
          "Burundi",
          "Cambodia",
          "Cameroon",
          "Canada",
          "Cayman Islands",
          "Central Africa Republic",
          "Chile",
          "China",
          "Colombia",
          "Congo",
          "Costa Rica",
          "Croatia",
          "Cura ao",
          "Cyprus",
          "Czech Republic",
          "Democratic Republic of the Congo",
          "Denmark",
          "Dominica",
          "Dominican Republic",
          "East Timor",
          "Ecuador",
          "Egypt",
          "El Salvador",
          "Estonia",
          "Ethiopia",
          "Falkland Islands Malvinas",
          "Faroe Islands",
          "Fiji",
          "Finland",
          "France",
          "French Guiana",
          "French Polynesia",
          "Gabon",
          "Gambia",
          "Georgia",
          "Germany",
          "Ghana",
          "Gibraltar",
          "Greece",
          "Grenada",
          "Guadeloupe",
          "Guam",
          "Guatemala",
          "Guernsey",
          "Guyana",
          "Haiti",
          "Honduras",
          "Hong Kong",
          "Hungary",
          "Iceland",
          "India",
          "Indonesia",
          "Iran",
          "Iraq",
          "Ireland",
          "Israel",
          "Italy",
          "Ivory Coast",
          "Jamaica",
          "Japan",
          "Jersey",
          "Jordan",
          "Kazakhstan",
          "Kenya",
          "Kosovo",
          "Kuwait",
          "Kyrgyzstan",
          "Laos",
          "Latvia",
          "Lebanon",
          "Lesotho",
          "Liberia",
          "Libya",
          "Liechtenstein",
          "Lithuania",
          "Luxembourg",
          "Macau",
          "Macedonia",
          "Madagascar",
          "Malawi",
          "Malaysia",
          "Maldives",
          "Mali",
          "Malta",
          "Martinique",
          "Mauritania",
          "Mauritius",
          "Mexico",
          "Moldova",
          "Monaco",
          "Mongolia",
          "Montenegro",
          "Morocco",
          "Mozambique",
          "Myanmar",
          "Namibia",
          "Nepal",
          "Netherlands",
          "New Caledonia",
          "New Zealand",
          "Nicaragua",
          "Nigeria",
          "Norway",
          "Oman",
          "Pakistan",
          "Palestinian Territory",
          "Panama",
          "Papua New Guinea",
          "Paraguay",
          "Peru",
          "Philippines",
          "Poland",
          "Portugal",
          "Puerto Rico",
          "Qatar",
          "Reunion",
          "Romania",
          "Russia",
          "Rwanda",
          "Saint Barts",
          "Saint Kitts and Nevis",
          "Saint Lucia",
          "Saint Martin",
          "Samoa",
          "San Marino",
          "Saudi Arabia",
          "Senegal",
          "Serbia",
          "Seychelles",
          "Sierra Leone",
          "Singapore",
          "Slovakia",
          "Slovenia",
          "Somalia",
          "South Africa",
          "South Korea",
          "Spain",
          "Sri Lanka",
          "St Maarten",
          "Sudan",
          "Suriname",
          "Swaziland",
          "Sweden",
          "Switzerland",
          "Syria",
          "Taiwan",
          "Tajikistan",
          "Tanzania",
          "Thailand",
          "Togo",
          "Trinidad and Tobago",
          "Tunisia",
          "Turkey",
          "Turkmenistan",
          "Turks Caicos Islands",
          "Uganda",
          "Ukraine",
          "United Arab Emirates",
          "United Kingdom",
          "United States of America",
          "Uruguay",
          "Uzbekistan",
          "Vanuatu",
          "Venezuela",
          "Vietnam",
          "Yemen",
          "Zambia",
          "Zimbabwe"
         ],
         "type": "choropleth",
         "z": [
          6.88,
          8.25,
          7.78,
          8.06,
          8.09,
          8.77,
          8.05,
          8.42,
          8.11,
          8.42,
          8.59,
          8.31,
          7.9,
          8.58,
          7.93,
          7.61,
          8.5,
          8.2,
          8.17,
          8.29,
          9.17,
          8.6,
          8.9,
          8.72,
          9.07,
          8.36,
          8.2,
          8.44,
          8.39,
          8.45,
          8.42,
          9.2,
          8.11,
          8.13,
          8.55,
          8.55,
          9.3,
          8.3,
          8.44,
          8.55,
          9.17,
          8.53,
          8.31,
          8.61,
          8.3,
          8.29,
          8.52,
          8.07,
          8.46,
          8.35,
          8.75,
          8.62,
          8.1,
          8.69,
          8.38,
          8.24,
          8.7,
          7.98,
          8.04,
          8.29,
          8.15,
          8.75,
          7.77,
          7.09,
          9.26,
          8.3,
          8.13,
          8.18,
          8.23,
          8.16,
          7.8,
          7.68,
          8.71,
          8.5,
          8.4,
          8.92,
          8.48,
          8.78,
          8.03,
          8.5,
          8.46,
          7.88,
          8.26,
          7.73,
          7.98,
          8.46,
          8.69,
          8.11,
          8.27,
          8.36,
          8.3,
          8.31,
          7.81,
          7.88,
          8.08,
          7.96,
          8.01,
          9,
          8.07,
          8.26,
          7.99,
          7.23,
          8.2,
          7.6,
          8.89,
          8.34,
          8.2,
          7.94,
          8.26,
          8.19,
          8.35,
          8.16,
          7.94,
          6.44,
          8.48,
          7.66,
          7.94,
          7.93,
          8.56,
          8.15,
          8.07,
          7.25,
          7.97,
          8.04,
          7.87,
          8.13,
          8.38,
          6.84,
          8.13,
          8.59,
          8.65,
          8.73,
          8.18,
          8.15,
          7.85,
          7.81,
          7.97,
          8.8,
          7.85,
          8.32,
          8.38,
          8.43,
          8.23,
          8.05,
          8.8,
          7.89,
          8.27,
          8.2,
          8.28,
          8.22,
          9.03,
          8.59,
          8.2,
          9.28,
          8.55,
          8.9,
          7.88,
          7.88,
          8.28,
          7.6,
          7.5,
          8.14,
          8.36,
          8.28,
          8.77,
          8.36,
          8.38,
          8.17,
          8.08,
          8.35,
          8.02,
          7.4,
          8.5,
          8.16,
          8.16,
          7.52,
          8.38,
          9.36,
          7.81,
          8.2,
          8.44,
          8.68,
          7.89,
          8,
          7.36,
          7.96,
          8.14,
          8.39,
          7.88,
          8.49,
          8.79,
          8.52,
          7.82,
          9.07,
          8.64,
          8.08,
          8.11,
          8.21,
          7.91
         ]
        }
       ],
       "layout": {
        "annotations": [
         {
          "showarrow": false,
          "text": "Source: <a href='https://www.kaggle.com/datasets/jiashenliu/515k-hotel-reviews-data-in-europe'> 515K Hotel Reviews Data in Europe (booking.com)",
          "x": 0.5,
          "y": -0.1
         }
        ],
        "geo": {
         "projection": {
          "type": "equirectangular"
         },
         "showcoastlines": false,
         "showframe": false,
         "showland": true
        },
        "margin": {
         "b": 50,
         "l": 2,
         "r": 2,
         "t": 50
        },
        "template": {
         "data": {
          "bar": [
           {
            "error_x": {
             "color": "#2a3f5f"
            },
            "error_y": {
             "color": "#2a3f5f"
            },
            "marker": {
             "line": {
              "color": "#E5ECF6",
              "width": 0.5
             },
             "pattern": {
              "fillmode": "overlay",
              "size": 10,
              "solidity": 0.2
             }
            },
            "type": "bar"
           }
          ],
          "barpolar": [
           {
            "marker": {
             "line": {
              "color": "#E5ECF6",
              "width": 0.5
             },
             "pattern": {
              "fillmode": "overlay",
              "size": 10,
              "solidity": 0.2
             }
            },
            "type": "barpolar"
           }
          ],
          "carpet": [
           {
            "aaxis": {
             "endlinecolor": "#2a3f5f",
             "gridcolor": "white",
             "linecolor": "white",
             "minorgridcolor": "white",
             "startlinecolor": "#2a3f5f"
            },
            "baxis": {
             "endlinecolor": "#2a3f5f",
             "gridcolor": "white",
             "linecolor": "white",
             "minorgridcolor": "white",
             "startlinecolor": "#2a3f5f"
            },
            "type": "carpet"
           }
          ],
          "choropleth": [
           {
            "colorbar": {
             "outlinewidth": 0,
             "ticks": ""
            },
            "type": "choropleth"
           }
          ],
          "contour": [
           {
            "colorbar": {
             "outlinewidth": 0,
             "ticks": ""
            },
            "colorscale": [
             [
              0,
              "#0d0887"
             ],
             [
              0.1111111111111111,
              "#46039f"
             ],
             [
              0.2222222222222222,
              "#7201a8"
             ],
             [
              0.3333333333333333,
              "#9c179e"
             ],
             [
              0.4444444444444444,
              "#bd3786"
             ],
             [
              0.5555555555555556,
              "#d8576b"
             ],
             [
              0.6666666666666666,
              "#ed7953"
             ],
             [
              0.7777777777777778,
              "#fb9f3a"
             ],
             [
              0.8888888888888888,
              "#fdca26"
             ],
             [
              1,
              "#f0f921"
             ]
            ],
            "type": "contour"
           }
          ],
          "contourcarpet": [
           {
            "colorbar": {
             "outlinewidth": 0,
             "ticks": ""
            },
            "type": "contourcarpet"
           }
          ],
          "heatmap": [
           {
            "colorbar": {
             "outlinewidth": 0,
             "ticks": ""
            },
            "colorscale": [
             [
              0,
              "#0d0887"
             ],
             [
              0.1111111111111111,
              "#46039f"
             ],
             [
              0.2222222222222222,
              "#7201a8"
             ],
             [
              0.3333333333333333,
              "#9c179e"
             ],
             [
              0.4444444444444444,
              "#bd3786"
             ],
             [
              0.5555555555555556,
              "#d8576b"
             ],
             [
              0.6666666666666666,
              "#ed7953"
             ],
             [
              0.7777777777777778,
              "#fb9f3a"
             ],
             [
              0.8888888888888888,
              "#fdca26"
             ],
             [
              1,
              "#f0f921"
             ]
            ],
            "type": "heatmap"
           }
          ],
          "heatmapgl": [
           {
            "colorbar": {
             "outlinewidth": 0,
             "ticks": ""
            },
            "colorscale": [
             [
              0,
              "#0d0887"
             ],
             [
              0.1111111111111111,
              "#46039f"
             ],
             [
              0.2222222222222222,
              "#7201a8"
             ],
             [
              0.3333333333333333,
              "#9c179e"
             ],
             [
              0.4444444444444444,
              "#bd3786"
             ],
             [
              0.5555555555555556,
              "#d8576b"
             ],
             [
              0.6666666666666666,
              "#ed7953"
             ],
             [
              0.7777777777777778,
              "#fb9f3a"
             ],
             [
              0.8888888888888888,
              "#fdca26"
             ],
             [
              1,
              "#f0f921"
             ]
            ],
            "type": "heatmapgl"
           }
          ],
          "histogram": [
           {
            "marker": {
             "pattern": {
              "fillmode": "overlay",
              "size": 10,
              "solidity": 0.2
             }
            },
            "type": "histogram"
           }
          ],
          "histogram2d": [
           {
            "colorbar": {
             "outlinewidth": 0,
             "ticks": ""
            },
            "colorscale": [
             [
              0,
              "#0d0887"
             ],
             [
              0.1111111111111111,
              "#46039f"
             ],
             [
              0.2222222222222222,
              "#7201a8"
             ],
             [
              0.3333333333333333,
              "#9c179e"
             ],
             [
              0.4444444444444444,
              "#bd3786"
             ],
             [
              0.5555555555555556,
              "#d8576b"
             ],
             [
              0.6666666666666666,
              "#ed7953"
             ],
             [
              0.7777777777777778,
              "#fb9f3a"
             ],
             [
              0.8888888888888888,
              "#fdca26"
             ],
             [
              1,
              "#f0f921"
             ]
            ],
            "type": "histogram2d"
           }
          ],
          "histogram2dcontour": [
           {
            "colorbar": {
             "outlinewidth": 0,
             "ticks": ""
            },
            "colorscale": [
             [
              0,
              "#0d0887"
             ],
             [
              0.1111111111111111,
              "#46039f"
             ],
             [
              0.2222222222222222,
              "#7201a8"
             ],
             [
              0.3333333333333333,
              "#9c179e"
             ],
             [
              0.4444444444444444,
              "#bd3786"
             ],
             [
              0.5555555555555556,
              "#d8576b"
             ],
             [
              0.6666666666666666,
              "#ed7953"
             ],
             [
              0.7777777777777778,
              "#fb9f3a"
             ],
             [
              0.8888888888888888,
              "#fdca26"
             ],
             [
              1,
              "#f0f921"
             ]
            ],
            "type": "histogram2dcontour"
           }
          ],
          "mesh3d": [
           {
            "colorbar": {
             "outlinewidth": 0,
             "ticks": ""
            },
            "type": "mesh3d"
           }
          ],
          "parcoords": [
           {
            "line": {
             "colorbar": {
              "outlinewidth": 0,
              "ticks": ""
             }
            },
            "type": "parcoords"
           }
          ],
          "pie": [
           {
            "automargin": true,
            "type": "pie"
           }
          ],
          "scatter": [
           {
            "fillpattern": {
             "fillmode": "overlay",
             "size": 10,
             "solidity": 0.2
            },
            "type": "scatter"
           }
          ],
          "scatter3d": [
           {
            "line": {
             "colorbar": {
              "outlinewidth": 0,
              "ticks": ""
             }
            },
            "marker": {
             "colorbar": {
              "outlinewidth": 0,
              "ticks": ""
             }
            },
            "type": "scatter3d"
           }
          ],
          "scattercarpet": [
           {
            "marker": {
             "colorbar": {
              "outlinewidth": 0,
              "ticks": ""
             }
            },
            "type": "scattercarpet"
           }
          ],
          "scattergeo": [
           {
            "marker": {
             "colorbar": {
              "outlinewidth": 0,
              "ticks": ""
             }
            },
            "type": "scattergeo"
           }
          ],
          "scattergl": [
           {
            "marker": {
             "colorbar": {
              "outlinewidth": 0,
              "ticks": ""
             }
            },
            "type": "scattergl"
           }
          ],
          "scattermapbox": [
           {
            "marker": {
             "colorbar": {
              "outlinewidth": 0,
              "ticks": ""
             }
            },
            "type": "scattermapbox"
           }
          ],
          "scatterpolar": [
           {
            "marker": {
             "colorbar": {
              "outlinewidth": 0,
              "ticks": ""
             }
            },
            "type": "scatterpolar"
           }
          ],
          "scatterpolargl": [
           {
            "marker": {
             "colorbar": {
              "outlinewidth": 0,
              "ticks": ""
             }
            },
            "type": "scatterpolargl"
           }
          ],
          "scatterternary": [
           {
            "marker": {
             "colorbar": {
              "outlinewidth": 0,
              "ticks": ""
             }
            },
            "type": "scatterternary"
           }
          ],
          "surface": [
           {
            "colorbar": {
             "outlinewidth": 0,
             "ticks": ""
            },
            "colorscale": [
             [
              0,
              "#0d0887"
             ],
             [
              0.1111111111111111,
              "#46039f"
             ],
             [
              0.2222222222222222,
              "#7201a8"
             ],
             [
              0.3333333333333333,
              "#9c179e"
             ],
             [
              0.4444444444444444,
              "#bd3786"
             ],
             [
              0.5555555555555556,
              "#d8576b"
             ],
             [
              0.6666666666666666,
              "#ed7953"
             ],
             [
              0.7777777777777778,
              "#fb9f3a"
             ],
             [
              0.8888888888888888,
              "#fdca26"
             ],
             [
              1,
              "#f0f921"
             ]
            ],
            "type": "surface"
           }
          ],
          "table": [
           {
            "cells": {
             "fill": {
              "color": "#EBF0F8"
             },
             "line": {
              "color": "white"
             }
            },
            "header": {
             "fill": {
              "color": "#C8D4E3"
             },
             "line": {
              "color": "white"
             }
            },
            "type": "table"
           }
          ]
         },
         "layout": {
          "annotationdefaults": {
           "arrowcolor": "#2a3f5f",
           "arrowhead": 0,
           "arrowwidth": 1
          },
          "autotypenumbers": "strict",
          "coloraxis": {
           "colorbar": {
            "outlinewidth": 0,
            "ticks": ""
           }
          },
          "colorscale": {
           "diverging": [
            [
             0,
             "#8e0152"
            ],
            [
             0.1,
             "#c51b7d"
            ],
            [
             0.2,
             "#de77ae"
            ],
            [
             0.3,
             "#f1b6da"
            ],
            [
             0.4,
             "#fde0ef"
            ],
            [
             0.5,
             "#f7f7f7"
            ],
            [
             0.6,
             "#e6f5d0"
            ],
            [
             0.7,
             "#b8e186"
            ],
            [
             0.8,
             "#7fbc41"
            ],
            [
             0.9,
             "#4d9221"
            ],
            [
             1,
             "#276419"
            ]
           ],
           "sequential": [
            [
             0,
             "#0d0887"
            ],
            [
             0.1111111111111111,
             "#46039f"
            ],
            [
             0.2222222222222222,
             "#7201a8"
            ],
            [
             0.3333333333333333,
             "#9c179e"
            ],
            [
             0.4444444444444444,
             "#bd3786"
            ],
            [
             0.5555555555555556,
             "#d8576b"
            ],
            [
             0.6666666666666666,
             "#ed7953"
            ],
            [
             0.7777777777777778,
             "#fb9f3a"
            ],
            [
             0.8888888888888888,
             "#fdca26"
            ],
            [
             1,
             "#f0f921"
            ]
           ],
           "sequentialminus": [
            [
             0,
             "#0d0887"
            ],
            [
             0.1111111111111111,
             "#46039f"
            ],
            [
             0.2222222222222222,
             "#7201a8"
            ],
            [
             0.3333333333333333,
             "#9c179e"
            ],
            [
             0.4444444444444444,
             "#bd3786"
            ],
            [
             0.5555555555555556,
             "#d8576b"
            ],
            [
             0.6666666666666666,
             "#ed7953"
            ],
            [
             0.7777777777777778,
             "#fb9f3a"
            ],
            [
             0.8888888888888888,
             "#fdca26"
            ],
            [
             1,
             "#f0f921"
            ]
           ]
          },
          "colorway": [
           "#636efa",
           "#EF553B",
           "#00cc96",
           "#ab63fa",
           "#FFA15A",
           "#19d3f3",
           "#FF6692",
           "#B6E880",
           "#FF97FF",
           "#FECB52"
          ],
          "font": {
           "color": "#2a3f5f"
          },
          "geo": {
           "bgcolor": "white",
           "lakecolor": "white",
           "landcolor": "#E5ECF6",
           "showlakes": true,
           "showland": true,
           "subunitcolor": "white"
          },
          "hoverlabel": {
           "align": "left"
          },
          "hovermode": "closest",
          "mapbox": {
           "style": "light"
          },
          "paper_bgcolor": "white",
          "plot_bgcolor": "#E5ECF6",
          "polar": {
           "angularaxis": {
            "gridcolor": "white",
            "linecolor": "white",
            "ticks": ""
           },
           "bgcolor": "#E5ECF6",
           "radialaxis": {
            "gridcolor": "white",
            "linecolor": "white",
            "ticks": ""
           }
          },
          "scene": {
           "xaxis": {
            "backgroundcolor": "#E5ECF6",
            "gridcolor": "white",
            "gridwidth": 2,
            "linecolor": "white",
            "showbackground": true,
            "ticks": "",
            "zerolinecolor": "white"
           },
           "yaxis": {
            "backgroundcolor": "#E5ECF6",
            "gridcolor": "white",
            "gridwidth": 2,
            "linecolor": "white",
            "showbackground": true,
            "ticks": "",
            "zerolinecolor": "white"
           },
           "zaxis": {
            "backgroundcolor": "#E5ECF6",
            "gridcolor": "white",
            "gridwidth": 2,
            "linecolor": "white",
            "showbackground": true,
            "ticks": "",
            "zerolinecolor": "white"
           }
          },
          "shapedefaults": {
           "line": {
            "color": "#2a3f5f"
           }
          },
          "ternary": {
           "aaxis": {
            "gridcolor": "white",
            "linecolor": "white",
            "ticks": ""
           },
           "baxis": {
            "gridcolor": "white",
            "linecolor": "white",
            "ticks": ""
           },
           "bgcolor": "#E5ECF6",
           "caxis": {
            "gridcolor": "white",
            "linecolor": "white",
            "ticks": ""
           }
          },
          "title": {
           "x": 0.05
          },
          "xaxis": {
           "automargin": true,
           "gridcolor": "white",
           "linecolor": "white",
           "ticks": "",
           "title": {
            "standoff": 15
           },
           "zerolinecolor": "white",
           "zerolinewidth": 2
          },
          "yaxis": {
           "automargin": true,
           "gridcolor": "white",
           "linecolor": "white",
           "ticks": "",
           "title": {
            "standoff": 15
           },
           "zerolinecolor": "white",
           "zerolinewidth": 2
          }
         }
        },
        "title": {
         "text": "Average score awarded by country"
        }
       }
      }
     },
     "metadata": {},
     "output_type": "display_data"
    }
   ],
   "source": [
    "fig = go.Figure(data=go.Choropleth(\n",
    "    locations = asn['Alpha-3 code'],\n",
    "    z = asn['Reviewer_Score'],\n",
    "    text = asn['Reviewer_Nationality'],\n",
    "    autocolorscale=False,\n",
    "    marker_line_color='darkgray',\n",
    "    marker_line_width=1,\n",
    "    colorscale='RdYlGn',\n",
    "    colorbar_title = 'Reviewscore'))\n",
    "fig.update_layout(\n",
    "    margin=dict(l=2, r=2, t=50, b=50),\n",
    "    title_text='Average score awarded by country',\n",
    "    annotations= [dict(x=0.5,y=-0.1,text=\"Source: <a href='https://www.kaggle.com/datasets/jiashenliu/515k-hotel-reviews-data-in-europe'> 515K Hotel Reviews Data in Europe (booking.com)\",showarrow=False)],\n",
    "    geo=dict(\n",
    "        showframe=False,\n",
    "        showland=True,\n",
    "        showcoastlines=False,\n",
    "        projection_type='equirectangular' # 'orthographic' will make it globeeee\n",
    "        \n",
    "    ))"
   ]
  },
  {
   "attachments": {},
   "cell_type": "markdown",
   "metadata": {},
   "source": [
    "## Creating dataset of highest and lowest reviewed country"
   ]
  },
  {
   "cell_type": "code",
   "execution_count": 15,
   "metadata": {},
   "outputs": [],
   "source": [
    "lowhigh = [asn.loc[asn['Reviewer_Score'].idxmax()].to_frame().T,asn.loc[asn['Reviewer_Score'].idxmin()].to_frame().T]"
   ]
  },
  {
   "cell_type": "code",
   "execution_count": 16,
   "metadata": {},
   "outputs": [],
   "source": [
    "lowhighdf = pd.concat(lowhigh)\n",
    "lowhighdf.drop(['size','Alpha-3 code'],axis=1,inplace=True)\n",
    "lowhighdf.reset_index(inplace=True,drop=True)"
   ]
  },
  {
   "cell_type": "code",
   "execution_count": 17,
   "metadata": {},
   "outputs": [],
   "source": [
    "lowhighdf['Reviewer_Score'] = lowhighdf['Reviewer_Score'].astype('float')"
   ]
  },
  {
   "cell_type": "code",
   "execution_count": 18,
   "metadata": {},
   "outputs": [
    {
     "data": {
      "text/html": [
       "<div>\n",
       "<style scoped>\n",
       "    .dataframe tbody tr th:only-of-type {\n",
       "        vertical-align: middle;\n",
       "    }\n",
       "\n",
       "    .dataframe tbody tr th {\n",
       "        vertical-align: top;\n",
       "    }\n",
       "\n",
       "    .dataframe thead th {\n",
       "        text-align: right;\n",
       "    }\n",
       "</style>\n",
       "<table border=\"1\" class=\"dataframe\">\n",
       "  <thead>\n",
       "    <tr style=\"text-align: right;\">\n",
       "      <th></th>\n",
       "      <th>Reviewer_Nationality</th>\n",
       "      <th>Reviewer_Score</th>\n",
       "    </tr>\n",
       "  </thead>\n",
       "  <tbody>\n",
       "    <tr>\n",
       "      <th>0</th>\n",
       "      <td>Tajikistan</td>\n",
       "      <td>9.36</td>\n",
       "    </tr>\n",
       "    <tr>\n",
       "      <th>1</th>\n",
       "      <td>Mali</td>\n",
       "      <td>6.44</td>\n",
       "    </tr>\n",
       "  </tbody>\n",
       "</table>\n",
       "</div>"
      ],
      "text/plain": [
       "  Reviewer_Nationality  Reviewer_Score\n",
       "0           Tajikistan            9.36\n",
       "1                 Mali            6.44"
      ]
     },
     "execution_count": 18,
     "metadata": {},
     "output_type": "execute_result"
    }
   ],
   "source": [
    "lowhighdf"
   ]
  },
  {
   "cell_type": "code",
   "execution_count": 19,
   "metadata": {},
   "outputs": [],
   "source": [
    "plt.style.use('ggplot')"
   ]
  },
  {
   "cell_type": "code",
   "execution_count": 20,
   "metadata": {},
   "outputs": [],
   "source": [
    "sns.set_palette('pastel')"
   ]
  },
  {
   "cell_type": "code",
   "execution_count": 21,
   "metadata": {},
   "outputs": [
    {
     "data": {
      "text/html": [
       "<svg  width=\"550\" height=\"55\"><rect x=\"0\" y=\"0\" width=\"55\" height=\"55\" style=\"fill:#a1c9f4;stroke-width:2;stroke:rgb(255,255,255)\"/><rect x=\"55\" y=\"0\" width=\"55\" height=\"55\" style=\"fill:#ffb482;stroke-width:2;stroke:rgb(255,255,255)\"/><rect x=\"110\" y=\"0\" width=\"55\" height=\"55\" style=\"fill:#8de5a1;stroke-width:2;stroke:rgb(255,255,255)\"/><rect x=\"165\" y=\"0\" width=\"55\" height=\"55\" style=\"fill:#ff9f9b;stroke-width:2;stroke:rgb(255,255,255)\"/><rect x=\"220\" y=\"0\" width=\"55\" height=\"55\" style=\"fill:#d0bbff;stroke-width:2;stroke:rgb(255,255,255)\"/><rect x=\"275\" y=\"0\" width=\"55\" height=\"55\" style=\"fill:#debb9b;stroke-width:2;stroke:rgb(255,255,255)\"/><rect x=\"330\" y=\"0\" width=\"55\" height=\"55\" style=\"fill:#fab0e4;stroke-width:2;stroke:rgb(255,255,255)\"/><rect x=\"385\" y=\"0\" width=\"55\" height=\"55\" style=\"fill:#cfcfcf;stroke-width:2;stroke:rgb(255,255,255)\"/><rect x=\"440\" y=\"0\" width=\"55\" height=\"55\" style=\"fill:#fffea3;stroke-width:2;stroke:rgb(255,255,255)\"/><rect x=\"495\" y=\"0\" width=\"55\" height=\"55\" style=\"fill:#b9f2f0;stroke-width:2;stroke:rgb(255,255,255)\"/></svg>"
      ],
      "text/plain": [
       "[(0.6313725490196078, 0.788235294117647, 0.9568627450980393),\n",
       " (1.0, 0.7058823529411765, 0.5098039215686274),\n",
       " (0.5529411764705883, 0.8980392156862745, 0.6313725490196078),\n",
       " (1.0, 0.6235294117647059, 0.6078431372549019),\n",
       " (0.8156862745098039, 0.7333333333333333, 1.0),\n",
       " (0.8705882352941177, 0.7333333333333333, 0.6078431372549019),\n",
       " (0.9803921568627451, 0.6901960784313725, 0.8941176470588236),\n",
       " (0.8117647058823529, 0.8117647058823529, 0.8117647058823529),\n",
       " (1.0, 0.996078431372549, 0.6392156862745098),\n",
       " (0.7254901960784313, 0.9490196078431372, 0.9411764705882353)]"
      ]
     },
     "execution_count": 21,
     "metadata": {},
     "output_type": "execute_result"
    }
   ],
   "source": [
    "sns.color_palette()"
   ]
  },
  {
   "cell_type": "code",
   "execution_count": 22,
   "metadata": {},
   "outputs": [
    {
     "name": "stdout",
     "output_type": "stream",
     "text": [
      "['#a1c9f4', '#ffb482', '#8de5a1', '#ff9f9b', '#d0bbff', '#debb9b', '#fab0e4', '#cfcfcf', '#fffea3', '#b9f2f0']\n"
     ]
    }
   ],
   "source": [
    "print(sns.color_palette().as_hex())"
   ]
  },
  {
   "cell_type": "code",
   "execution_count": 23,
   "metadata": {},
   "outputs": [
    {
     "name": "stdout",
     "output_type": "stream",
     "text": [
      "<class 'pandas.core.frame.DataFrame'>\n",
      "RangeIndex: 2 entries, 0 to 1\n",
      "Data columns (total 2 columns):\n",
      " #   Column                Non-Null Count  Dtype  \n",
      "---  ------                --------------  -----  \n",
      " 0   Reviewer_Nationality  2 non-null      object \n",
      " 1   Reviewer_Score        2 non-null      float64\n",
      "dtypes: float64(1), object(1)\n",
      "memory usage: 160.0+ bytes\n"
     ]
    }
   ],
   "source": [
    "lowhighdf.info()"
   ]
  },
  {
   "cell_type": "code",
   "execution_count": 24,
   "metadata": {},
   "outputs": [
    {
     "data": {
      "image/png": "[encoded data removed]",
      "text/plain": [
       "<Figure size 640x480 with 1 Axes>"
      ]
     },
     "metadata": {},
     "output_type": "display_data"
    }
   ],
   "source": [
    "ax = sns.barplot(data=lowhighdf,x='Reviewer_Nationality',y='Reviewer_Score',palette='pastel')\n",
    "ax.axhline(asn.Reviewer_Score.mean(),color='#fab0e4')\n",
    "plt.show()"
   ]
  },
  {
   "attachments": {},
   "cell_type": "markdown",
   "metadata": {},
   "source": [
    "## Highest variance in reviews (Which country rates a certain country worse/better than average)"
   ]
  },
  {
   "cell_type": "code",
   "execution_count": 25,
   "metadata": {},
   "outputs": [],
   "source": [
    "tempdf = reviews.groupby(['Reviewer_Nationality','Country_Name'])['Reviewer_Score'].size().to_frame().drop(\"\",axis=0).reset_index()\n",
    "sizegroup = pd.DataFrame(tempdf['Reviewer_Score'])\n",
    "sizegroup.rename(columns={'Reviewer_Score':'Size'},inplace=True)\n",
    "asnp = reviews.groupby(['Reviewer_Nationality','Country_Name'])['Reviewer_Score'].mean().to_frame().drop(\"\",axis=0).reset_index()\n",
    "averagescore=asnp.groupby('Country_Name')['Reviewer_Score'].mean().to_frame()\n",
    "averagescore.rename(columns={'Reviewer_Score':'Average for destination'},inplace=True)\n",
    "diffdf = pd.merge(asnp,averagescore,how='left',on='Country_Name')\n",
    "diffdf['diff'] = np.nan\n",
    "diffdf['diff'] = diffdf[['Average for destination','Reviewer_Score','diff']].diff(axis=1).shift(axis=1)['diff']\n",
    "diffdf.rename(columns={'Reviewer_Score':'Awarded score'},inplace=True)\n",
    "diffdf = diffdf.join(sizegroup)\n",
    "\n",
    "winner=diffdf.loc[diffdf.loc[diffdf['Size'] > 10]['diff'].idxmin()].to_frame().T\n",
    "loser=diffdf.loc[diffdf.loc[diffdf['Size'] > 10]['diff'].idxmax()].to_frame().T\n",
    "top = pd.concat([winner,loser])"
   ]
  },
  {
   "cell_type": "code",
   "execution_count": 26,
   "metadata": {},
   "outputs": [],
   "source": [
    "top2 = top[['Reviewer_Nationality','Country_Name','diff']]"
   ]
  },
  {
   "cell_type": "code",
   "execution_count": 27,
   "metadata": {},
   "outputs": [],
   "source": [
    "top2 = top2.set_index('Reviewer_Nationality')"
   ]
  },
  {
   "cell_type": "code",
   "execution_count": 28,
   "metadata": {},
   "outputs": [
    {
     "data": {
      "image/png": "[encoded data removed]",
      "text/plain": [
       "<Figure size 1200x1200 with 1 Axes>"
      ]
     },
     "metadata": {},
     "output_type": "display_data"
    }
   ],
   "source": [
    "plt.figure(figsize=(12,12))\n",
    "ax = sns.barplot(x=top2.index, y=\"diff\", data=top2, estimator=sum, palette='pastel')\n",
    "plt.bar_label(ax.containers[0],fmt='%.1f',label_type='center')\n",
    "sns.despine(bottom = True, left = True)"
   ]
  },
  {
   "cell_type": "markdown",
   "metadata": {},
   "source": [
    "## Mapping where hotel good yes very nice"
   ]
  },
  {
   "cell_type": "code",
   "execution_count": 29,
   "metadata": {},
   "outputs": [
    {
     "data": {
      "text/html": [
       "<div>\n",
       "<style scoped>\n",
       "    .dataframe tbody tr th:only-of-type {\n",
       "        vertical-align: middle;\n",
       "    }\n",
       "\n",
       "    .dataframe tbody tr th {\n",
       "        vertical-align: top;\n",
       "    }\n",
       "\n",
       "    .dataframe thead th {\n",
       "        text-align: right;\n",
       "    }\n",
       "</style>\n",
       "<table border=\"1\" class=\"dataframe\">\n",
       "  <thead>\n",
       "    <tr style=\"text-align: right;\">\n",
       "      <th></th>\n",
       "      <th>Id_Hotel_Rating</th>\n",
       "      <th>Additional_Number_of_Scoring</th>\n",
       "      <th>Average_Score</th>\n",
       "      <th>Review_Total_Negative_Word_Counts</th>\n",
       "      <th>Total_Number_of_Reviews</th>\n",
       "      <th>Review_Total_Positive_Word_Counts</th>\n",
       "      <th>Total_Number_of_Reviews_Reviewer_Has_Given</th>\n",
       "      <th>Reviewer_Score</th>\n",
       "      <th>lat</th>\n",
       "      <th>lng</th>\n",
       "    </tr>\n",
       "    <tr>\n",
       "      <th>Hotel_Name</th>\n",
       "      <th></th>\n",
       "      <th></th>\n",
       "      <th></th>\n",
       "      <th></th>\n",
       "      <th></th>\n",
       "      <th></th>\n",
       "      <th></th>\n",
       "      <th></th>\n",
       "      <th></th>\n",
       "      <th></th>\n",
       "    </tr>\n",
       "  </thead>\n",
       "  <tbody>\n",
       "    <tr>\n",
       "      <th>11 Cadogan Gardens</th>\n",
       "      <td>33783.0</td>\n",
       "      <td>101.0</td>\n",
       "      <td>8.7</td>\n",
       "      <td>15.528302</td>\n",
       "      <td>393.0</td>\n",
       "      <td>19.974843</td>\n",
       "      <td>7.226415</td>\n",
       "      <td>8.845283</td>\n",
       "      <td>51.493616</td>\n",
       "      <td>-0.159235</td>\n",
       "    </tr>\n",
       "    <tr>\n",
       "      <th>1K Hotel</th>\n",
       "      <td>43222.5</td>\n",
       "      <td>69.0</td>\n",
       "      <td>7.7</td>\n",
       "      <td>24.932432</td>\n",
       "      <td>663.0</td>\n",
       "      <td>15.601351</td>\n",
       "      <td>9.141892</td>\n",
       "      <td>7.861486</td>\n",
       "      <td>48.863932</td>\n",
       "      <td>2.365874</td>\n",
       "    </tr>\n",
       "    <tr>\n",
       "      <th>25hours Hotel beim MuseumsQuartier</th>\n",
       "      <td>370660.0</td>\n",
       "      <td>391.0</td>\n",
       "      <td>8.8</td>\n",
       "      <td>16.161103</td>\n",
       "      <td>4324.0</td>\n",
       "      <td>21.911466</td>\n",
       "      <td>8.722787</td>\n",
       "      <td>8.983309</td>\n",
       "      <td>48.206474</td>\n",
       "      <td>16.354630</td>\n",
       "    </tr>\n",
       "    <tr>\n",
       "      <th>41</th>\n",
       "      <td>185654.0</td>\n",
       "      <td>66.0</td>\n",
       "      <td>9.6</td>\n",
       "      <td>8.883495</td>\n",
       "      <td>244.0</td>\n",
       "      <td>25.300971</td>\n",
       "      <td>6.009709</td>\n",
       "      <td>9.711650</td>\n",
       "      <td>51.498147</td>\n",
       "      <td>-0.143649</td>\n",
       "    </tr>\n",
       "    <tr>\n",
       "      <th>45 Park Lane Dorchester Collection</th>\n",
       "      <td>191800.5</td>\n",
       "      <td>27.0</td>\n",
       "      <td>9.4</td>\n",
       "      <td>6.750000</td>\n",
       "      <td>68.0</td>\n",
       "      <td>11.535714</td>\n",
       "      <td>7.214286</td>\n",
       "      <td>9.603571</td>\n",
       "      <td>51.506371</td>\n",
       "      <td>-0.151536</td>\n",
       "    </tr>\n",
       "    <tr>\n",
       "      <th>...</th>\n",
       "      <td>...</td>\n",
       "      <td>...</td>\n",
       "      <td>...</td>\n",
       "      <td>...</td>\n",
       "      <td>...</td>\n",
       "      <td>...</td>\n",
       "      <td>...</td>\n",
       "      <td>...</td>\n",
       "      <td>...</td>\n",
       "      <td>...</td>\n",
       "    </tr>\n",
       "    <tr>\n",
       "      <th>citizenM London Bankside</th>\n",
       "      <td>96936.0</td>\n",
       "      <td>804.0</td>\n",
       "      <td>9.1</td>\n",
       "      <td>13.977587</td>\n",
       "      <td>3802.0</td>\n",
       "      <td>20.856295</td>\n",
       "      <td>9.768622</td>\n",
       "      <td>9.112261</td>\n",
       "      <td>51.505151</td>\n",
       "      <td>-0.100472</td>\n",
       "    </tr>\n",
       "    <tr>\n",
       "      <th>citizenM London Shoreditch</th>\n",
       "      <td>219640.5</td>\n",
       "      <td>500.0</td>\n",
       "      <td>9.1</td>\n",
       "      <td>14.439141</td>\n",
       "      <td>2113.0</td>\n",
       "      <td>21.620525</td>\n",
       "      <td>8.219570</td>\n",
       "      <td>9.092005</td>\n",
       "      <td>51.524137</td>\n",
       "      <td>-0.078698</td>\n",
       "    </tr>\n",
       "    <tr>\n",
       "      <th>citizenM Tower of London</th>\n",
       "      <td>181392.0</td>\n",
       "      <td>832.0</td>\n",
       "      <td>9.1</td>\n",
       "      <td>15.623292</td>\n",
       "      <td>4672.0</td>\n",
       "      <td>24.430778</td>\n",
       "      <td>9.334522</td>\n",
       "      <td>9.135591</td>\n",
       "      <td>51.510237</td>\n",
       "      <td>-0.076443</td>\n",
       "    </tr>\n",
       "    <tr>\n",
       "      <th>every hotel Piccadilly</th>\n",
       "      <td>171486.5</td>\n",
       "      <td>326.0</td>\n",
       "      <td>8.8</td>\n",
       "      <td>12.846831</td>\n",
       "      <td>1685.0</td>\n",
       "      <td>16.434859</td>\n",
       "      <td>6.468310</td>\n",
       "      <td>8.967782</td>\n",
       "      <td>51.510146</td>\n",
       "      <td>-0.131506</td>\n",
       "    </tr>\n",
       "    <tr>\n",
       "      <th>pentahotel Vienna</th>\n",
       "      <td>376852.0</td>\n",
       "      <td>63.0</td>\n",
       "      <td>8.5</td>\n",
       "      <td>17.922481</td>\n",
       "      <td>805.0</td>\n",
       "      <td>16.124031</td>\n",
       "      <td>12.875969</td>\n",
       "      <td>8.363566</td>\n",
       "      <td>48.189974</td>\n",
       "      <td>16.356701</td>\n",
       "    </tr>\n",
       "  </tbody>\n",
       "</table>\n",
       "<p>1492 rows × 10 columns</p>\n",
       "</div>"
      ],
      "text/plain": [
       "                                    Id_Hotel_Rating  \\\n",
       "Hotel_Name                                            \n",
       "11 Cadogan Gardens                          33783.0   \n",
       "1K Hotel                                    43222.5   \n",
       "25hours Hotel beim MuseumsQuartier         370660.0   \n",
       "41                                         185654.0   \n",
       "45 Park Lane Dorchester Collection         191800.5   \n",
       "...                                             ...   \n",
       "citizenM London Bankside                    96936.0   \n",
       "citizenM London Shoreditch                 219640.5   \n",
       "citizenM Tower of London                   181392.0   \n",
       "every hotel Piccadilly                     171486.5   \n",
       "pentahotel Vienna                          376852.0   \n",
       "\n",
       "                                    Additional_Number_of_Scoring  \\\n",
       "Hotel_Name                                                         \n",
       "11 Cadogan Gardens                                         101.0   \n",
       "1K Hotel                                                    69.0   \n",
       "25hours Hotel beim MuseumsQuartier                         391.0   \n",
       "41                                                          66.0   \n",
       "45 Park Lane Dorchester Collection                          27.0   \n",
       "...                                                          ...   \n",
       "citizenM London Bankside                                   804.0   \n",
       "citizenM London Shoreditch                                 500.0   \n",
       "citizenM Tower of London                                   832.0   \n",
       "every hotel Piccadilly                                     326.0   \n",
       "pentahotel Vienna                                           63.0   \n",
       "\n",
       "                                    Average_Score  \\\n",
       "Hotel_Name                                          \n",
       "11 Cadogan Gardens                            8.7   \n",
       "1K Hotel                                      7.7   \n",
       "25hours Hotel beim MuseumsQuartier            8.8   \n",
       "41                                            9.6   \n",
       "45 Park Lane Dorchester Collection            9.4   \n",
       "...                                           ...   \n",
       "citizenM London Bankside                      9.1   \n",
       "citizenM London Shoreditch                    9.1   \n",
       "citizenM Tower of London                      9.1   \n",
       "every hotel Piccadilly                        8.8   \n",
       "pentahotel Vienna                             8.5   \n",
       "\n",
       "                                    Review_Total_Negative_Word_Counts  \\\n",
       "Hotel_Name                                                              \n",
       "11 Cadogan Gardens                                          15.528302   \n",
       "1K Hotel                                                    24.932432   \n",
       "25hours Hotel beim MuseumsQuartier                          16.161103   \n",
       "41                                                           8.883495   \n",
       "45 Park Lane Dorchester Collection                           6.750000   \n",
       "...                                                               ...   \n",
       "citizenM London Bankside                                    13.977587   \n",
       "citizenM London Shoreditch                                  14.439141   \n",
       "citizenM Tower of London                                    15.623292   \n",
       "every hotel Piccadilly                                      12.846831   \n",
       "pentahotel Vienna                                           17.922481   \n",
       "\n",
       "                                    Total_Number_of_Reviews  \\\n",
       "Hotel_Name                                                    \n",
       "11 Cadogan Gardens                                    393.0   \n",
       "1K Hotel                                              663.0   \n",
       "25hours Hotel beim MuseumsQuartier                   4324.0   \n",
       "41                                                    244.0   \n",
       "45 Park Lane Dorchester Collection                     68.0   \n",
       "...                                                     ...   \n",
       "citizenM London Bankside                             3802.0   \n",
       "citizenM London Shoreditch                           2113.0   \n",
       "citizenM Tower of London                             4672.0   \n",
       "every hotel Piccadilly                               1685.0   \n",
       "pentahotel Vienna                                     805.0   \n",
       "\n",
       "                                    Review_Total_Positive_Word_Counts  \\\n",
       "Hotel_Name                                                              \n",
       "11 Cadogan Gardens                                          19.974843   \n",
       "1K Hotel                                                    15.601351   \n",
       "25hours Hotel beim MuseumsQuartier                          21.911466   \n",
       "41                                                          25.300971   \n",
       "45 Park Lane Dorchester Collection                          11.535714   \n",
       "...                                                               ...   \n",
       "citizenM London Bankside                                    20.856295   \n",
       "citizenM London Shoreditch                                  21.620525   \n",
       "citizenM Tower of London                                    24.430778   \n",
       "every hotel Piccadilly                                      16.434859   \n",
       "pentahotel Vienna                                           16.124031   \n",
       "\n",
       "                                    Total_Number_of_Reviews_Reviewer_Has_Given  \\\n",
       "Hotel_Name                                                                       \n",
       "11 Cadogan Gardens                                                    7.226415   \n",
       "1K Hotel                                                              9.141892   \n",
       "25hours Hotel beim MuseumsQuartier                                    8.722787   \n",
       "41                                                                    6.009709   \n",
       "45 Park Lane Dorchester Collection                                    7.214286   \n",
       "...                                                                        ...   \n",
       "citizenM London Bankside                                              9.768622   \n",
       "citizenM London Shoreditch                                            8.219570   \n",
       "citizenM Tower of London                                              9.334522   \n",
       "every hotel Piccadilly                                                6.468310   \n",
       "pentahotel Vienna                                                    12.875969   \n",
       "\n",
       "                                    Reviewer_Score        lat        lng  \n",
       "Hotel_Name                                                                \n",
       "11 Cadogan Gardens                        8.845283  51.493616  -0.159235  \n",
       "1K Hotel                                  7.861486  48.863932   2.365874  \n",
       "25hours Hotel beim MuseumsQuartier        8.983309  48.206474  16.354630  \n",
       "41                                        9.711650  51.498147  -0.143649  \n",
       "45 Park Lane Dorchester Collection        9.603571  51.506371  -0.151536  \n",
       "...                                            ...        ...        ...  \n",
       "citizenM London Bankside                  9.112261  51.505151  -0.100472  \n",
       "citizenM London Shoreditch                9.092005  51.524137  -0.078698  \n",
       "citizenM Tower of London                  9.135591  51.510237  -0.076443  \n",
       "every hotel Piccadilly                    8.967782  51.510146  -0.131506  \n",
       "pentahotel Vienna                         8.363566  48.189974  16.356701  \n",
       "\n",
       "[1492 rows x 10 columns]"
      ]
     },
     "execution_count": 29,
     "metadata": {},
     "output_type": "execute_result"
    }
   ],
   "source": [
    "reviews.groupby('Hotel_Name').mean()"
   ]
  },
  {
   "cell_type": "code",
   "execution_count": 30,
   "metadata": {},
   "outputs": [],
   "source": [
    "wwr = reviews.groupby('Hotel_Name')[['Country_Name','Average_Score','lat','lng']].agg(pd.Series.mode)\n",
    "topwwr = wwr.loc[wwr['Average_Score'] >=9]\n",
    "topwwr2 = pd.merge(topwwr.groupby('Country_Name').size().to_frame().reset_index(), cc, left_on='Country_Name', right_on='Reviewer_Nationality').drop(['Reviewer_Nationality','Alpha-2 code','Numeric code','ISO 3166-2'],axis=1)\n",
    "topwwr3 = wwr.groupby('Country_Name').size().to_frame().reset_index().rename(columns={0:'antal'})\n",
    "topwwrcc=pd.merge(topwwr3,topwwr2,on='Country_Name').rename(columns={0:'duktiga'})\n",
    "topwwrcc['prolle'] = (topwwrcc['duktiga'].div(topwwrcc['antal']))*100\n",
    "topwwrcc = topwwrcc.round({'prolle':2})\n"
   ]
  },
  {
   "cell_type": "code",
   "execution_count": 31,
   "metadata": {},
   "outputs": [
    {
     "data": {
      "application/vnd.plotly.v1+json": {
       "config": {
        "plotlyServerURL": "https://plot.ly"
       },
       "data": [
        {
         "autocolorscale": false,
         "colorbar": {
          "title": {
           "text": "Percentage"
          }
         },
         "colorscale": [
          [
           0,
           "Red"
          ],
          [
           0.5,
           "Yellow"
          ],
          [
           1,
           "green"
          ]
         ],
         "locations": [
          "ITA",
          "NLD",
          "ESP",
          "GBR"
         ],
         "marker": {
          "line": {
           "color": "darkgray",
           "width": 1
          }
         },
         "text": [
          "Italy",
          "Netherlands",
          "Spain",
          "United Kingdom"
         ],
         "type": "choropleth",
         "z": [
          15.53,
          20,
          18.01,
          23.75
         ]
        }
       ],
       "layout": {
        "annotations": [
         {
          "showarrow": false,
          "text": "Source: <a href='https://www.kaggle.com/datasets/jiashenliu/515k-hotel-reviews-data-in-europe'> 515K Hotel Reviews Data in Europe (booking.com)",
          "x": 0.5,
          "y": 0.01
         }
        ],
        "geo": {
         "projection": {
          "type": "equirectangular"
         },
         "scope": "europe",
         "showcoastlines": false,
         "showframe": false
        },
        "margin": {
         "b": 5,
         "l": 2,
         "r": 2,
         "t": 50
        },
        "template": {
         "data": {
          "bar": [
           {
            "error_x": {
             "color": "#2a3f5f"
            },
            "error_y": {
             "color": "#2a3f5f"
            },
            "marker": {
             "line": {
              "color": "#E5ECF6",
              "width": 0.5
             },
             "pattern": {
              "fillmode": "overlay",
              "size": 10,
              "solidity": 0.2
             }
            },
            "type": "bar"
           }
          ],
          "barpolar": [
           {
            "marker": {
             "line": {
              "color": "#E5ECF6",
              "width": 0.5
             },
             "pattern": {
              "fillmode": "overlay",
              "size": 10,
              "solidity": 0.2
             }
            },
            "type": "barpolar"
           }
          ],
          "carpet": [
           {
            "aaxis": {
             "endlinecolor": "#2a3f5f",
             "gridcolor": "white",
             "linecolor": "white",
             "minorgridcolor": "white",
             "startlinecolor": "#2a3f5f"
            },
            "baxis": {
             "endlinecolor": "#2a3f5f",
             "gridcolor": "white",
             "linecolor": "white",
             "minorgridcolor": "white",
             "startlinecolor": "#2a3f5f"
            },
            "type": "carpet"
           }
          ],
          "choropleth": [
           {
            "colorbar": {
             "outlinewidth": 0,
             "ticks": ""
            },
            "type": "choropleth"
           }
          ],
          "contour": [
           {
            "colorbar": {
             "outlinewidth": 0,
             "ticks": ""
            },
            "colorscale": [
             [
              0,
              "#0d0887"
             ],
             [
              0.1111111111111111,
              "#46039f"
             ],
             [
              0.2222222222222222,
              "#7201a8"
             ],
             [
              0.3333333333333333,
              "#9c179e"
             ],
             [
              0.4444444444444444,
              "#bd3786"
             ],
             [
              0.5555555555555556,
              "#d8576b"
             ],
             [
              0.6666666666666666,
              "#ed7953"
             ],
             [
              0.7777777777777778,
              "#fb9f3a"
             ],
             [
              0.8888888888888888,
              "#fdca26"
             ],
             [
              1,
              "#f0f921"
             ]
            ],
            "type": "contour"
           }
          ],
          "contourcarpet": [
           {
            "colorbar": {
             "outlinewidth": 0,
             "ticks": ""
            },
            "type": "contourcarpet"
           }
          ],
          "heatmap": [
           {
            "colorbar": {
             "outlinewidth": 0,
             "ticks": ""
            },
            "colorscale": [
             [
              0,
              "#0d0887"
             ],
             [
              0.1111111111111111,
              "#46039f"
             ],
             [
              0.2222222222222222,
              "#7201a8"
             ],
             [
              0.3333333333333333,
              "#9c179e"
             ],
             [
              0.4444444444444444,
              "#bd3786"
             ],
             [
              0.5555555555555556,
              "#d8576b"
             ],
             [
              0.6666666666666666,
              "#ed7953"
             ],
             [
              0.7777777777777778,
              "#fb9f3a"
             ],
             [
              0.8888888888888888,
              "#fdca26"
             ],
             [
              1,
              "#f0f921"
             ]
            ],
            "type": "heatmap"
           }
          ],
          "heatmapgl": [
           {
            "colorbar": {
             "outlinewidth": 0,
             "ticks": ""
            },
            "colorscale": [
             [
              0,
              "#0d0887"
             ],
             [
              0.1111111111111111,
              "#46039f"
             ],
             [
              0.2222222222222222,
              "#7201a8"
             ],
             [
              0.3333333333333333,
              "#9c179e"
             ],
             [
              0.4444444444444444,
              "#bd3786"
             ],
             [
              0.5555555555555556,
              "#d8576b"
             ],
             [
              0.6666666666666666,
              "#ed7953"
             ],
             [
              0.7777777777777778,
              "#fb9f3a"
             ],
             [
              0.8888888888888888,
              "#fdca26"
             ],
             [
              1,
              "#f0f921"
             ]
            ],
            "type": "heatmapgl"
           }
          ],
          "histogram": [
           {
            "marker": {
             "pattern": {
              "fillmode": "overlay",
              "size": 10,
              "solidity": 0.2
             }
            },
            "type": "histogram"
           }
          ],
          "histogram2d": [
           {
            "colorbar": {
             "outlinewidth": 0,
             "ticks": ""
            },
            "colorscale": [
             [
              0,
              "#0d0887"
             ],
             [
              0.1111111111111111,
              "#46039f"
             ],
             [
              0.2222222222222222,
              "#7201a8"
             ],
             [
              0.3333333333333333,
              "#9c179e"
             ],
             [
              0.4444444444444444,
              "#bd3786"
             ],
             [
              0.5555555555555556,
              "#d8576b"
             ],
             [
              0.6666666666666666,
              "#ed7953"
             ],
             [
              0.7777777777777778,
              "#fb9f3a"
             ],
             [
              0.8888888888888888,
              "#fdca26"
             ],
             [
              1,
              "#f0f921"
             ]
            ],
            "type": "histogram2d"
           }
          ],
          "histogram2dcontour": [
           {
            "colorbar": {
             "outlinewidth": 0,
             "ticks": ""
            },
            "colorscale": [
             [
              0,
              "#0d0887"
             ],
             [
              0.1111111111111111,
              "#46039f"
             ],
             [
              0.2222222222222222,
              "#7201a8"
             ],
             [
              0.3333333333333333,
              "#9c179e"
             ],
             [
              0.4444444444444444,
              "#bd3786"
             ],
             [
              0.5555555555555556,
              "#d8576b"
             ],
             [
              0.6666666666666666,
              "#ed7953"
             ],
             [
              0.7777777777777778,
              "#fb9f3a"
             ],
             [
              0.8888888888888888,
              "#fdca26"
             ],
             [
              1,
              "#f0f921"
             ]
            ],
            "type": "histogram2dcontour"
           }
          ],
          "mesh3d": [
           {
            "colorbar": {
             "outlinewidth": 0,
             "ticks": ""
            },
            "type": "mesh3d"
           }
          ],
          "parcoords": [
           {
            "line": {
             "colorbar": {
              "outlinewidth": 0,
              "ticks": ""
             }
            },
            "type": "parcoords"
           }
          ],
          "pie": [
           {
            "automargin": true,
            "type": "pie"
           }
          ],
          "scatter": [
           {
            "fillpattern": {
             "fillmode": "overlay",
             "size": 10,
             "solidity": 0.2
            },
            "type": "scatter"
           }
          ],
          "scatter3d": [
           {
            "line": {
             "colorbar": {
              "outlinewidth": 0,
              "ticks": ""
             }
            },
            "marker": {
             "colorbar": {
              "outlinewidth": 0,
              "ticks": ""
             }
            },
            "type": "scatter3d"
           }
          ],
          "scattercarpet": [
           {
            "marker": {
             "colorbar": {
              "outlinewidth": 0,
              "ticks": ""
             }
            },
            "type": "scattercarpet"
           }
          ],
          "scattergeo": [
           {
            "marker": {
             "colorbar": {
              "outlinewidth": 0,
              "ticks": ""
             }
            },
            "type": "scattergeo"
           }
          ],
          "scattergl": [
           {
            "marker": {
             "colorbar": {
              "outlinewidth": 0,
              "ticks": ""
             }
            },
            "type": "scattergl"
           }
          ],
          "scattermapbox": [
           {
            "marker": {
             "colorbar": {
              "outlinewidth": 0,
              "ticks": ""
             }
            },
            "type": "scattermapbox"
           }
          ],
          "scatterpolar": [
           {
            "marker": {
             "colorbar": {
              "outlinewidth": 0,
              "ticks": ""
             }
            },
            "type": "scatterpolar"
           }
          ],
          "scatterpolargl": [
           {
            "marker": {
             "colorbar": {
              "outlinewidth": 0,
              "ticks": ""
             }
            },
            "type": "scatterpolargl"
           }
          ],
          "scatterternary": [
           {
            "marker": {
             "colorbar": {
              "outlinewidth": 0,
              "ticks": ""
             }
            },
            "type": "scatterternary"
           }
          ],
          "surface": [
           {
            "colorbar": {
             "outlinewidth": 0,
             "ticks": ""
            },
            "colorscale": [
             [
              0,
              "#0d0887"
             ],
             [
              0.1111111111111111,
              "#46039f"
             ],
             [
              0.2222222222222222,
              "#7201a8"
             ],
             [
              0.3333333333333333,
              "#9c179e"
             ],
             [
              0.4444444444444444,
              "#bd3786"
             ],
             [
              0.5555555555555556,
              "#d8576b"
             ],
             [
              0.6666666666666666,
              "#ed7953"
             ],
             [
              0.7777777777777778,
              "#fb9f3a"
             ],
             [
              0.8888888888888888,
              "#fdca26"
             ],
             [
              1,
              "#f0f921"
             ]
            ],
            "type": "surface"
           }
          ],
          "table": [
           {
            "cells": {
             "fill": {
              "color": "#EBF0F8"
             },
             "line": {
              "color": "white"
             }
            },
            "header": {
             "fill": {
              "color": "#C8D4E3"
             },
             "line": {
              "color": "white"
             }
            },
            "type": "table"
           }
          ]
         },
         "layout": {
          "annotationdefaults": {
           "arrowcolor": "#2a3f5f",
           "arrowhead": 0,
           "arrowwidth": 1
          },
          "autotypenumbers": "strict",
          "coloraxis": {
           "colorbar": {
            "outlinewidth": 0,
            "ticks": ""
           }
          },
          "colorscale": {
           "diverging": [
            [
             0,
             "#8e0152"
            ],
            [
             0.1,
             "#c51b7d"
            ],
            [
             0.2,
             "#de77ae"
            ],
            [
             0.3,
             "#f1b6da"
            ],
            [
             0.4,
             "#fde0ef"
            ],
            [
             0.5,
             "#f7f7f7"
            ],
            [
             0.6,
             "#e6f5d0"
            ],
            [
             0.7,
             "#b8e186"
            ],
            [
             0.8,
             "#7fbc41"
            ],
            [
             0.9,
             "#4d9221"
            ],
            [
             1,
             "#276419"
            ]
           ],
           "sequential": [
            [
             0,
             "#0d0887"
            ],
            [
             0.1111111111111111,
             "#46039f"
            ],
            [
             0.2222222222222222,
             "#7201a8"
            ],
            [
             0.3333333333333333,
             "#9c179e"
            ],
            [
             0.4444444444444444,
             "#bd3786"
            ],
            [
             0.5555555555555556,
             "#d8576b"
            ],
            [
             0.6666666666666666,
             "#ed7953"
            ],
            [
             0.7777777777777778,
             "#fb9f3a"
            ],
            [
             0.8888888888888888,
             "#fdca26"
            ],
            [
             1,
             "#f0f921"
            ]
           ],
           "sequentialminus": [
            [
             0,
             "#0d0887"
            ],
            [
             0.1111111111111111,
             "#46039f"
            ],
            [
             0.2222222222222222,
             "#7201a8"
            ],
            [
             0.3333333333333333,
             "#9c179e"
            ],
            [
             0.4444444444444444,
             "#bd3786"
            ],
            [
             0.5555555555555556,
             "#d8576b"
            ],
            [
             0.6666666666666666,
             "#ed7953"
            ],
            [
             0.7777777777777778,
             "#fb9f3a"
            ],
            [
             0.8888888888888888,
             "#fdca26"
            ],
            [
             1,
             "#f0f921"
            ]
           ]
          },
          "colorway": [
           "#636efa",
           "#EF553B",
           "#00cc96",
           "#ab63fa",
           "#FFA15A",
           "#19d3f3",
           "#FF6692",
           "#B6E880",
           "#FF97FF",
           "#FECB52"
          ],
          "font": {
           "color": "#2a3f5f"
          },
          "geo": {
           "bgcolor": "white",
           "lakecolor": "white",
           "landcolor": "#E5ECF6",
           "showlakes": true,
           "showland": true,
           "subunitcolor": "white"
          },
          "hoverlabel": {
           "align": "left"
          },
          "hovermode": "closest",
          "mapbox": {
           "style": "light"
          },
          "paper_bgcolor": "white",
          "plot_bgcolor": "#E5ECF6",
          "polar": {
           "angularaxis": {
            "gridcolor": "white",
            "linecolor": "white",
            "ticks": ""
           },
           "bgcolor": "#E5ECF6",
           "radialaxis": {
            "gridcolor": "white",
            "linecolor": "white",
            "ticks": ""
           }
          },
          "scene": {
           "xaxis": {
            "backgroundcolor": "#E5ECF6",
            "gridcolor": "white",
            "gridwidth": 2,
            "linecolor": "white",
            "showbackground": true,
            "ticks": "",
            "zerolinecolor": "white"
           },
           "yaxis": {
            "backgroundcolor": "#E5ECF6",
            "gridcolor": "white",
            "gridwidth": 2,
            "linecolor": "white",
            "showbackground": true,
            "ticks": "",
            "zerolinecolor": "white"
           },
           "zaxis": {
            "backgroundcolor": "#E5ECF6",
            "gridcolor": "white",
            "gridwidth": 2,
            "linecolor": "white",
            "showbackground": true,
            "ticks": "",
            "zerolinecolor": "white"
           }
          },
          "shapedefaults": {
           "line": {
            "color": "#2a3f5f"
           }
          },
          "ternary": {
           "aaxis": {
            "gridcolor": "white",
            "linecolor": "white",
            "ticks": ""
           },
           "baxis": {
            "gridcolor": "white",
            "linecolor": "white",
            "ticks": ""
           },
           "bgcolor": "#E5ECF6",
           "caxis": {
            "gridcolor": "white",
            "linecolor": "white",
            "ticks": ""
           }
          },
          "title": {
           "x": 0.05
          },
          "xaxis": {
           "automargin": true,
           "gridcolor": "white",
           "linecolor": "white",
           "ticks": "",
           "title": {
            "standoff": 15
           },
           "zerolinecolor": "white",
           "zerolinewidth": 2
          },
          "yaxis": {
           "automargin": true,
           "gridcolor": "white",
           "linecolor": "white",
           "ticks": "",
           "title": {
            "standoff": 15
           },
           "zerolinecolor": "white",
           "zerolinewidth": 2
          }
         }
        },
        "title": {
         "text": "Percentage of Hotels with a score over 9.5"
        }
       }
      }
     },
     "metadata": {},
     "output_type": "display_data"
    }
   ],
   "source": [
    "fig = go.Figure(data=go.Choropleth(\n",
    "    locations = topwwrcc['Alpha-3 code'],\n",
    "    z = topwwrcc['prolle'],\n",
    "    text = topwwrcc['Country_Name'],\n",
    "    autocolorscale=False,\n",
    "    marker_line_color='darkgray',\n",
    "    marker_line_width=1,\n",
    "    colorscale=[(0,'Red'),(0.5,'Yellow'),(1,'green')],\n",
    "    colorbar_title = 'Percentage'))\n",
    "fig.update_layout(\n",
    "    title_text='Percentage of Hotels with a score over 9.5',\n",
    "    margin=dict(l=2, r=2, t=50, b=5),\n",
    "    annotations= [dict(x=0.5,y=0.01,text=\"Source: <a href='https://www.kaggle.com/datasets/jiashenliu/515k-hotel-reviews-data-in-europe'> 515K Hotel Reviews Data in Europe (booking.com)\",showarrow=False)],\n",
    "    geo=dict(\n",
    "        showframe=False,\n",
    "        showcoastlines=False,\n",
    "        projection_type='equirectangular' # 'orthographic' will make it globeeee\n",
    "        ,scope='europe'\n",
    "    ))"
   ]
  },
  {
   "cell_type": "code",
   "execution_count": 32,
   "metadata": {},
   "outputs": [],
   "source": [
    "reviews['Country_Name'] = reviews['Country_Name'].str.strip()"
   ]
  },
  {
   "cell_type": "code",
   "execution_count": 33,
   "metadata": {},
   "outputs": [],
   "source": [
    "parisdf = reviews.loc[reviews['Country_Name'] == 'France']"
   ]
  },
  {
   "cell_type": "code",
   "execution_count": 34,
   "metadata": {},
   "outputs": [],
   "source": [
    "parisdf = parisdf.groupby('Hotel_Name')[['Average_Score','lat','lng']].mean()"
   ]
  },
  {
   "cell_type": "code",
   "execution_count": 35,
   "metadata": {},
   "outputs": [],
   "source": [
    "parisdf.reset_index(inplace=True)"
   ]
  },
  {
   "cell_type": "code",
   "execution_count": 36,
   "metadata": {},
   "outputs": [],
   "source": [
    "parisdf.drop(parisdf.loc[parisdf.isnull().any(axis=1)].index,axis=0,inplace=True)"
   ]
  },
  {
   "cell_type": "code",
   "execution_count": 37,
   "metadata": {},
   "outputs": [
    {
     "data": {
      "text/html": [
       "<div>\n",
       "<style scoped>\n",
       "    .dataframe tbody tr th:only-of-type {\n",
       "        vertical-align: middle;\n",
       "    }\n",
       "\n",
       "    .dataframe tbody tr th {\n",
       "        vertical-align: top;\n",
       "    }\n",
       "\n",
       "    .dataframe thead th {\n",
       "        text-align: right;\n",
       "    }\n",
       "</style>\n",
       "<table border=\"1\" class=\"dataframe\">\n",
       "  <thead>\n",
       "    <tr style=\"text-align: right;\">\n",
       "      <th></th>\n",
       "      <th>Country_Name</th>\n",
       "      <th>Average_Score</th>\n",
       "      <th>lat</th>\n",
       "      <th>lng</th>\n",
       "    </tr>\n",
       "    <tr>\n",
       "      <th>Hotel_Name</th>\n",
       "      <th></th>\n",
       "      <th></th>\n",
       "      <th></th>\n",
       "      <th></th>\n",
       "    </tr>\n",
       "  </thead>\n",
       "  <tbody>\n",
       "    <tr>\n",
       "      <th>41</th>\n",
       "      <td>United Kingdom</td>\n",
       "      <td>9.6</td>\n",
       "      <td>51.498147</td>\n",
       "      <td>-0.143649</td>\n",
       "    </tr>\n",
       "    <tr>\n",
       "      <th>45 Park Lane Dorchester Collection</th>\n",
       "      <td>United Kingdom</td>\n",
       "      <td>9.4</td>\n",
       "      <td>51.506371</td>\n",
       "      <td>-0.151536</td>\n",
       "    </tr>\n",
       "    <tr>\n",
       "      <th>Acad mie H tel Saint Germain</th>\n",
       "      <td>France</td>\n",
       "      <td>9.0</td>\n",
       "      <td>48.855263</td>\n",
       "      <td>2.33059</td>\n",
       "    </tr>\n",
       "    <tr>\n",
       "      <th>Alma Barcelona GL</th>\n",
       "      <td>Spain</td>\n",
       "      <td>9.2</td>\n",
       "      <td>41.394507</td>\n",
       "      <td>2.163266</td>\n",
       "    </tr>\n",
       "    <tr>\n",
       "      <th>Amba Hotel Charing Cross</th>\n",
       "      <td>United Kingdom</td>\n",
       "      <td>9.3</td>\n",
       "      <td>51.508236</td>\n",
       "      <td>-0.126196</td>\n",
       "    </tr>\n",
       "    <tr>\n",
       "      <th>...</th>\n",
       "      <td>...</td>\n",
       "      <td>...</td>\n",
       "      <td>...</td>\n",
       "      <td>...</td>\n",
       "    </tr>\n",
       "    <tr>\n",
       "      <th>Waldorf Astoria Amsterdam</th>\n",
       "      <td>Netherlands</td>\n",
       "      <td>9.5</td>\n",
       "      <td>52.364768</td>\n",
       "      <td>4.896945</td>\n",
       "    </tr>\n",
       "    <tr>\n",
       "      <th>art otel Amsterdam</th>\n",
       "      <td>Netherlands</td>\n",
       "      <td>9.0</td>\n",
       "      <td>52.377743</td>\n",
       "      <td>4.897057</td>\n",
       "    </tr>\n",
       "    <tr>\n",
       "      <th>citizenM London Bankside</th>\n",
       "      <td>United Kingdom</td>\n",
       "      <td>9.1</td>\n",
       "      <td>51.505151</td>\n",
       "      <td>-0.100472</td>\n",
       "    </tr>\n",
       "    <tr>\n",
       "      <th>citizenM London Shoreditch</th>\n",
       "      <td>United Kingdom</td>\n",
       "      <td>9.1</td>\n",
       "      <td>51.524137</td>\n",
       "      <td>-0.078698</td>\n",
       "    </tr>\n",
       "    <tr>\n",
       "      <th>citizenM Tower of London</th>\n",
       "      <td>United Kingdom</td>\n",
       "      <td>9.1</td>\n",
       "      <td>51.510237</td>\n",
       "      <td>-0.076443</td>\n",
       "    </tr>\n",
       "  </tbody>\n",
       "</table>\n",
       "<p>299 rows × 4 columns</p>\n",
       "</div>"
      ],
      "text/plain": [
       "                                      Country_Name  Average_Score        lat  \\\n",
       "Hotel_Name                                                                     \n",
       "41                                  United Kingdom            9.6  51.498147   \n",
       "45 Park Lane Dorchester Collection  United Kingdom            9.4  51.506371   \n",
       "Acad mie H tel Saint Germain                France            9.0  48.855263   \n",
       "Alma Barcelona GL                            Spain            9.2  41.394507   \n",
       "Amba Hotel Charing Cross            United Kingdom            9.3  51.508236   \n",
       "...                                            ...            ...        ...   \n",
       "Waldorf Astoria Amsterdam              Netherlands            9.5  52.364768   \n",
       "art otel Amsterdam                     Netherlands            9.0  52.377743   \n",
       "citizenM London Bankside            United Kingdom            9.1  51.505151   \n",
       "citizenM London Shoreditch          United Kingdom            9.1  51.524137   \n",
       "citizenM Tower of London            United Kingdom            9.1  51.510237   \n",
       "\n",
       "                                         lng  \n",
       "Hotel_Name                                    \n",
       "41                                 -0.143649  \n",
       "45 Park Lane Dorchester Collection -0.151536  \n",
       "Acad mie H tel Saint Germain         2.33059  \n",
       "Alma Barcelona GL                   2.163266  \n",
       "Amba Hotel Charing Cross           -0.126196  \n",
       "...                                      ...  \n",
       "Waldorf Astoria Amsterdam           4.896945  \n",
       "art otel Amsterdam                  4.897057  \n",
       "citizenM London Bankside           -0.100472  \n",
       "citizenM London Shoreditch         -0.078698  \n",
       "citizenM Tower of London           -0.076443  \n",
       "\n",
       "[299 rows x 4 columns]"
      ]
     },
     "execution_count": 37,
     "metadata": {},
     "output_type": "execute_result"
    }
   ],
   "source": [
    "topwwr"
   ]
  },
  {
   "cell_type": "markdown",
   "metadata": {},
   "source": [
    "## Most talkative Country "
   ]
  },
  {
   "cell_type": "code",
   "execution_count": 38,
   "metadata": {},
   "outputs": [],
   "source": [
    "pd.options.display.max_rows = 20\n",
    "pd.options.display.min_rows = 15"
   ]
  },
  {
   "cell_type": "code",
   "execution_count": 39,
   "metadata": {},
   "outputs": [],
   "source": [
    "temp = pd.DataFrame()"
   ]
  },
  {
   "cell_type": "code",
   "execution_count": 40,
   "metadata": {},
   "outputs": [],
   "source": [
    "temp['pos'] = reviews.groupby('Reviewer_Nationality')['Review_Total_Positive_Word_Counts'].mean().loc[reviews.groupby('Reviewer_Nationality').size() > 3].to_frame()\n",
    "temp['neg'] = reviews.groupby('Reviewer_Nationality')['Review_Total_Negative_Word_Counts'].mean().loc[reviews.groupby('Reviewer_Nationality').size() > 3].to_frame()\n",
    "temp['mean'] = temp['pos'] + temp['neg']\n",
    "temp.drop(['neg','pos'],axis=1,inplace=True)\n",
    "temp.reset_index(inplace=True)\n"
   ]
  },
  {
   "cell_type": "code",
   "execution_count": 41,
   "metadata": {},
   "outputs": [],
   "source": [
    "temp.drop(temp.index[temp['Reviewer_Nationality'] == ''],inplace=True)"
   ]
  },
  {
   "cell_type": "code",
   "execution_count": 42,
   "metadata": {},
   "outputs": [],
   "source": [
    "temp2 = temp.merge(cc,on='Reviewer_Nationality')"
   ]
  },
  {
   "cell_type": "code",
   "execution_count": 43,
   "metadata": {},
   "outputs": [],
   "source": [
    "temp2.drop(columns=['Alpha-2 code','Numeric code','ISO 3166-2'],inplace=True)"
   ]
  },
  {
   "cell_type": "code",
   "execution_count": 44,
   "metadata": {},
   "outputs": [],
   "source": [
    "temp2 = temp2.round(decimals=0)"
   ]
  },
  {
   "cell_type": "code",
   "execution_count": 45,
   "metadata": {},
   "outputs": [
    {
     "data": {
      "application/vnd.plotly.v1+json": {
       "config": {
        "plotlyServerURL": "https://plot.ly"
       },
       "data": [
        {
         "autocolorscale": false,
         "colorbar": {
          "title": {
           "text": "Reviewscore"
          }
         },
         "colorscale": [
          [
           0,
           "rgb(165,0,38)"
          ],
          [
           0.1,
           "rgb(215,48,39)"
          ],
          [
           0.2,
           "rgb(244,109,67)"
          ],
          [
           0.3,
           "rgb(253,174,97)"
          ],
          [
           0.4,
           "rgb(254,224,139)"
          ],
          [
           0.5,
           "rgb(255,255,191)"
          ],
          [
           0.6,
           "rgb(217,239,139)"
          ],
          [
           0.7,
           "rgb(166,217,106)"
          ],
          [
           0.8,
           "rgb(102,189,99)"
          ],
          [
           0.9,
           "rgb(26,152,80)"
          ],
          [
           1,
           "rgb(0,104,55)"
          ]
         ],
         "locations": [
          "AFG",
          "ALB",
          "DZA",
          "AND",
          "AGO",
          "ARG",
          "ARM",
          "ABW",
          "AUS",
          "AUT",
          "AZE",
          "BHS",
          "BHR",
          "BGD",
          "BRB",
          "BLR",
          "BEL",
          "BLZ",
          "BEN",
          "BMU",
          "BTN",
          "BOL",
          "BIH",
          "BWA",
          "BRA",
          "BGR",
          "KHM",
          "CMR",
          "CAN",
          "CYM",
          "CHL",
          "CHN",
          "COL",
          "CRI",
          "HRV",
          "CYP",
          "CZE",
          "DNK",
          "DMA",
          "DOM",
          "ECU",
          "EGY",
          "SLV",
          "EST",
          "ETH",
          "FRO",
          "FJI",
          "FIN",
          "FRA",
          "GUF",
          "GAB",
          "GMB",
          "GEO",
          "DEU",
          "GHA",
          "GIB",
          "GRC",
          "GLP",
          "GUM",
          "GTM",
          "GGY",
          "GUY",
          "HTI",
          "HND",
          "HUN",
          "ISL",
          "IND",
          "IDN",
          "IRN",
          "IRQ",
          "IRL",
          "ISR",
          "ITA",
          "JAM",
          "JPN",
          "JEY",
          "JOR",
          "KAZ",
          "KEN",
          "KWT",
          "KGZ",
          "LVA",
          "LBN",
          "LIE",
          "LTU",
          "LUX",
          "MDG",
          "MWI",
          "MYS",
          "MDV",
          "MLI",
          "MLT",
          "MTQ",
          "MRT",
          "MUS",
          "MEX",
          "MCO",
          "MNG",
          "MNE",
          "MAR",
          "MOZ",
          "MMR",
          "NAM",
          "NPL",
          "NLD",
          "NCL",
          "NZL",
          "NIC",
          "NGA",
          "NOR",
          "OMN",
          "PAK",
          "PAN",
          "PNG",
          "PRY",
          "PER",
          "PHL",
          "POL",
          "PRT",
          "PRI",
          "QAT",
          "REU",
          "ROU",
          "RUS",
          "RWA",
          "KNA",
          "LCA",
          "MAF",
          "WSM",
          "SAU",
          "SEN",
          "SRB",
          "SYC",
          "SLE",
          "SGP",
          "SVK",
          "SVN",
          "ZAF",
          "KOR",
          "ESP",
          "LKA",
          "SDN",
          "SUR",
          "SWZ",
          "SWE",
          "CHE",
          "TWN",
          "TJK",
          "TZA",
          "THA",
          "TGO",
          "TTO",
          "TUN",
          "TUR",
          "TKM",
          "UGA",
          "UKR",
          "ARE",
          "GBR",
          "USA",
          "URY",
          "UZB",
          "VUT",
          "VEN",
          "VNM",
          "YEM",
          "ZMB",
          "ZWE"
         ],
         "marker": {
          "line": {
           "color": "darkgray",
           "width": 1
          }
         },
         "text": [
          "Afghanistan",
          "Albania",
          "Algeria",
          "Andorra",
          "Angola",
          "Argentina",
          "Armenia",
          "Aruba",
          "Australia",
          "Austria",
          "Azerbaijan",
          "Bahamas",
          "Bahrain",
          "Bangladesh",
          "Barbados",
          "Belarus",
          "Belgium",
          "Belize",
          "Benin",
          "Bermuda",
          "Bhutan",
          "Bolivia",
          "Bosnia and Herzegovina",
          "Botswana",
          "Brazil",
          "Bulgaria",
          "Cambodia",
          "Cameroon",
          "Canada",
          "Cayman Islands",
          "Chile",
          "China",
          "Colombia",
          "Costa Rica",
          "Croatia",
          "Cyprus",
          "Czech Republic",
          "Denmark",
          "Dominica",
          "Dominican Republic",
          "Ecuador",
          "Egypt",
          "El Salvador",
          "Estonia",
          "Ethiopia",
          "Faroe Islands",
          "Fiji",
          "Finland",
          "France",
          "French Guiana",
          "Gabon",
          "Gambia",
          "Georgia",
          "Germany",
          "Ghana",
          "Gibraltar",
          "Greece",
          "Guadeloupe",
          "Guam",
          "Guatemala",
          "Guernsey",
          "Guyana",
          "Haiti",
          "Honduras",
          "Hungary",
          "Iceland",
          "India",
          "Indonesia",
          "Iran",
          "Iraq",
          "Ireland",
          "Israel",
          "Italy",
          "Jamaica",
          "Japan",
          "Jersey",
          "Jordan",
          "Kazakhstan",
          "Kenya",
          "Kuwait",
          "Kyrgyzstan",
          "Latvia",
          "Lebanon",
          "Liechtenstein",
          "Lithuania",
          "Luxembourg",
          "Madagascar",
          "Malawi",
          "Malaysia",
          "Maldives",
          "Mali",
          "Malta",
          "Martinique",
          "Mauritania",
          "Mauritius",
          "Mexico",
          "Monaco",
          "Mongolia",
          "Montenegro",
          "Morocco",
          "Mozambique",
          "Myanmar",
          "Namibia",
          "Nepal",
          "Netherlands",
          "New Caledonia",
          "New Zealand",
          "Nicaragua",
          "Nigeria",
          "Norway",
          "Oman",
          "Pakistan",
          "Panama",
          "Papua New Guinea",
          "Paraguay",
          "Peru",
          "Philippines",
          "Poland",
          "Portugal",
          "Puerto Rico",
          "Qatar",
          "Reunion",
          "Romania",
          "Russia",
          "Rwanda",
          "Saint Kitts and Nevis",
          "Saint Lucia",
          "Saint Martin",
          "Samoa",
          "Saudi Arabia",
          "Senegal",
          "Serbia",
          "Seychelles",
          "Sierra Leone",
          "Singapore",
          "Slovakia",
          "Slovenia",
          "South Africa",
          "South Korea",
          "Spain",
          "Sri Lanka",
          "Sudan",
          "Suriname",
          "Swaziland",
          "Sweden",
          "Switzerland",
          "Taiwan",
          "Tajikistan",
          "Tanzania",
          "Thailand",
          "Togo",
          "Trinidad and Tobago",
          "Tunisia",
          "Turkey",
          "Turkmenistan",
          "Uganda",
          "Ukraine",
          "United Arab Emirates",
          "United Kingdom",
          "United States of America",
          "Uruguay",
          "Uzbekistan",
          "Vanuatu",
          "Venezuela",
          "Vietnam",
          "Yemen",
          "Zambia",
          "Zimbabwe"
         ],
         "type": "choropleth",
         "z": [
          38,
          28,
          22,
          29,
          20,
          31,
          34,
          31,
          38,
          37,
          33,
          38,
          32,
          27,
          32,
          45,
          36,
          38,
          6,
          39,
          14,
          22,
          28,
          37,
          35,
          36,
          24,
          18,
          40,
          43,
          33,
          30,
          27,
          31,
          34,
          36,
          34,
          39,
          22,
          25,
          25,
          29,
          23,
          38,
          19,
          32,
          22,
          40,
          35,
          26,
          15,
          8,
          31,
          42,
          26,
          35,
          37,
          18,
          42,
          27,
          37,
          31,
          24,
          30,
          36,
          36,
          33,
          29,
          27,
          22,
          38,
          33,
          34,
          42,
          33,
          37,
          27,
          33,
          36,
          27,
          37,
          40,
          28,
          32,
          39,
          39,
          17,
          51,
          32,
          38,
          24,
          34,
          7,
          13,
          31,
          28,
          37,
          21,
          34,
          28,
          23,
          30,
          30,
          40,
          38,
          14,
          35,
          31,
          26,
          37,
          31,
          28,
          25,
          41,
          29,
          22,
          38,
          36,
          35,
          29,
          28,
          16,
          41,
          42,
          44,
          14,
          34,
          16,
          14,
          26,
          19,
          34,
          30,
          34,
          41,
          35,
          32,
          34,
          28,
          35,
          36,
          30,
          33,
          32,
          41,
          39,
          29,
          25,
          26,
          31,
          23,
          38,
          23,
          33,
          23,
          33,
          38,
          33,
          36,
          42,
          27,
          25,
          45,
          26,
          30,
          37,
          26,
          33
         ]
        }
       ],
       "layout": {
        "annotations": [
         {
          "showarrow": false,
          "text": "Source: <a href='https://www.kaggle.com/datasets/jiashenliu/515k-hotel-reviews-data-in-europe'> 515K Hotel Reviews Data in Europe (booking.com)",
          "x": 0.5,
          "y": -0.1
         }
        ],
        "geo": {
         "projection": {
          "type": "equirectangular"
         },
         "showcoastlines": false,
         "showframe": false,
         "showland": true
        },
        "margin": {
         "b": 50,
         "l": 2,
         "r": 2,
         "t": 50
        },
        "template": {
         "data": {
          "bar": [
           {
            "error_x": {
             "color": "#2a3f5f"
            },
            "error_y": {
             "color": "#2a3f5f"
            },
            "marker": {
             "line": {
              "color": "#E5ECF6",
              "width": 0.5
             },
             "pattern": {
              "fillmode": "overlay",
              "size": 10,
              "solidity": 0.2
             }
            },
            "type": "bar"
           }
          ],
          "barpolar": [
           {
            "marker": {
             "line": {
              "color": "#E5ECF6",
              "width": 0.5
             },
             "pattern": {
              "fillmode": "overlay",
              "size": 10,
              "solidity": 0.2
             }
            },
            "type": "barpolar"
           }
          ],
          "carpet": [
           {
            "aaxis": {
             "endlinecolor": "#2a3f5f",
             "gridcolor": "white",
             "linecolor": "white",
             "minorgridcolor": "white",
             "startlinecolor": "#2a3f5f"
            },
            "baxis": {
             "endlinecolor": "#2a3f5f",
             "gridcolor": "white",
             "linecolor": "white",
             "minorgridcolor": "white",
             "startlinecolor": "#2a3f5f"
            },
            "type": "carpet"
           }
          ],
          "choropleth": [
           {
            "colorbar": {
             "outlinewidth": 0,
             "ticks": ""
            },
            "type": "choropleth"
           }
          ],
          "contour": [
           {
            "colorbar": {
             "outlinewidth": 0,
             "ticks": ""
            },
            "colorscale": [
             [
              0,
              "#0d0887"
             ],
             [
              0.1111111111111111,
              "#46039f"
             ],
             [
              0.2222222222222222,
              "#7201a8"
             ],
             [
              0.3333333333333333,
              "#9c179e"
             ],
             [
              0.4444444444444444,
              "#bd3786"
             ],
             [
              0.5555555555555556,
              "#d8576b"
             ],
             [
              0.6666666666666666,
              "#ed7953"
             ],
             [
              0.7777777777777778,
              "#fb9f3a"
             ],
             [
              0.8888888888888888,
              "#fdca26"
             ],
             [
              1,
              "#f0f921"
             ]
            ],
            "type": "contour"
           }
          ],
          "contourcarpet": [
           {
            "colorbar": {
             "outlinewidth": 0,
             "ticks": ""
            },
            "type": "contourcarpet"
           }
          ],
          "heatmap": [
           {
            "colorbar": {
             "outlinewidth": 0,
             "ticks": ""
            },
            "colorscale": [
             [
              0,
              "#0d0887"
             ],
             [
              0.1111111111111111,
              "#46039f"
             ],
             [
              0.2222222222222222,
              "#7201a8"
             ],
             [
              0.3333333333333333,
              "#9c179e"
             ],
             [
              0.4444444444444444,
              "#bd3786"
             ],
             [
              0.5555555555555556,
              "#d8576b"
             ],
             [
              0.6666666666666666,
              "#ed7953"
             ],
             [
              0.7777777777777778,
              "#fb9f3a"
             ],
             [
              0.8888888888888888,
              "#fdca26"
             ],
             [
              1,
              "#f0f921"
             ]
            ],
            "type": "heatmap"
           }
          ],
          "heatmapgl": [
           {
            "colorbar": {
             "outlinewidth": 0,
             "ticks": ""
            },
            "colorscale": [
             [
              0,
              "#0d0887"
             ],
             [
              0.1111111111111111,
              "#46039f"
             ],
             [
              0.2222222222222222,
              "#7201a8"
             ],
             [
              0.3333333333333333,
              "#9c179e"
             ],
             [
              0.4444444444444444,
              "#bd3786"
             ],
             [
              0.5555555555555556,
              "#d8576b"
             ],
             [
              0.6666666666666666,
              "#ed7953"
             ],
             [
              0.7777777777777778,
              "#fb9f3a"
             ],
             [
              0.8888888888888888,
              "#fdca26"
             ],
             [
              1,
              "#f0f921"
             ]
            ],
            "type": "heatmapgl"
           }
          ],
          "histogram": [
           {
            "marker": {
             "pattern": {
              "fillmode": "overlay",
              "size": 10,
              "solidity": 0.2
             }
            },
            "type": "histogram"
           }
          ],
          "histogram2d": [
           {
            "colorbar": {
             "outlinewidth": 0,
             "ticks": ""
            },
            "colorscale": [
             [
              0,
              "#0d0887"
             ],
             [
              0.1111111111111111,
              "#46039f"
             ],
             [
              0.2222222222222222,
              "#7201a8"
             ],
             [
              0.3333333333333333,
              "#9c179e"
             ],
             [
              0.4444444444444444,
              "#bd3786"
             ],
             [
              0.5555555555555556,
              "#d8576b"
             ],
             [
              0.6666666666666666,
              "#ed7953"
             ],
             [
              0.7777777777777778,
              "#fb9f3a"
             ],
             [
              0.8888888888888888,
              "#fdca26"
             ],
             [
              1,
              "#f0f921"
             ]
            ],
            "type": "histogram2d"
           }
          ],
          "histogram2dcontour": [
           {
            "colorbar": {
             "outlinewidth": 0,
             "ticks": ""
            },
            "colorscale": [
             [
              0,
              "#0d0887"
             ],
             [
              0.1111111111111111,
              "#46039f"
             ],
             [
              0.2222222222222222,
              "#7201a8"
             ],
             [
              0.3333333333333333,
              "#9c179e"
             ],
             [
              0.4444444444444444,
              "#bd3786"
             ],
             [
              0.5555555555555556,
              "#d8576b"
             ],
             [
              0.6666666666666666,
              "#ed7953"
             ],
             [
              0.7777777777777778,
              "#fb9f3a"
             ],
             [
              0.8888888888888888,
              "#fdca26"
             ],
             [
              1,
              "#f0f921"
             ]
            ],
            "type": "histogram2dcontour"
           }
          ],
          "mesh3d": [
           {
            "colorbar": {
             "outlinewidth": 0,
             "ticks": ""
            },
            "type": "mesh3d"
           }
          ],
          "parcoords": [
           {
            "line": {
             "colorbar": {
              "outlinewidth": 0,
              "ticks": ""
             }
            },
            "type": "parcoords"
           }
          ],
          "pie": [
           {
            "automargin": true,
            "type": "pie"
           }
          ],
          "scatter": [
           {
            "fillpattern": {
             "fillmode": "overlay",
             "size": 10,
             "solidity": 0.2
            },
            "type": "scatter"
           }
          ],
          "scatter3d": [
           {
            "line": {
             "colorbar": {
              "outlinewidth": 0,
              "ticks": ""
             }
            },
            "marker": {
             "colorbar": {
              "outlinewidth": 0,
              "ticks": ""
             }
            },
            "type": "scatter3d"
           }
          ],
          "scattercarpet": [
           {
            "marker": {
             "colorbar": {
              "outlinewidth": 0,
              "ticks": ""
             }
            },
            "type": "scattercarpet"
           }
          ],
          "scattergeo": [
           {
            "marker": {
             "colorbar": {
              "outlinewidth": 0,
              "ticks": ""
             }
            },
            "type": "scattergeo"
           }
          ],
          "scattergl": [
           {
            "marker": {
             "colorbar": {
              "outlinewidth": 0,
              "ticks": ""
             }
            },
            "type": "scattergl"
           }
          ],
          "scattermapbox": [
           {
            "marker": {
             "colorbar": {
              "outlinewidth": 0,
              "ticks": ""
             }
            },
            "type": "scattermapbox"
           }
          ],
          "scatterpolar": [
           {
            "marker": {
             "colorbar": {
              "outlinewidth": 0,
              "ticks": ""
             }
            },
            "type": "scatterpolar"
           }
          ],
          "scatterpolargl": [
           {
            "marker": {
             "colorbar": {
              "outlinewidth": 0,
              "ticks": ""
             }
            },
            "type": "scatterpolargl"
           }
          ],
          "scatterternary": [
           {
            "marker": {
             "colorbar": {
              "outlinewidth": 0,
              "ticks": ""
             }
            },
            "type": "scatterternary"
           }
          ],
          "surface": [
           {
            "colorbar": {
             "outlinewidth": 0,
             "ticks": ""
            },
            "colorscale": [
             [
              0,
              "#0d0887"
             ],
             [
              0.1111111111111111,
              "#46039f"
             ],
             [
              0.2222222222222222,
              "#7201a8"
             ],
             [
              0.3333333333333333,
              "#9c179e"
             ],
             [
              0.4444444444444444,
              "#bd3786"
             ],
             [
              0.5555555555555556,
              "#d8576b"
             ],
             [
              0.6666666666666666,
              "#ed7953"
             ],
             [
              0.7777777777777778,
              "#fb9f3a"
             ],
             [
              0.8888888888888888,
              "#fdca26"
             ],
             [
              1,
              "#f0f921"
             ]
            ],
            "type": "surface"
           }
          ],
          "table": [
           {
            "cells": {
             "fill": {
              "color": "#EBF0F8"
             },
             "line": {
              "color": "white"
             }
            },
            "header": {
             "fill": {
              "color": "#C8D4E3"
             },
             "line": {
              "color": "white"
             }
            },
            "type": "table"
           }
          ]
         },
         "layout": {
          "annotationdefaults": {
           "arrowcolor": "#2a3f5f",
           "arrowhead": 0,
           "arrowwidth": 1
          },
          "autotypenumbers": "strict",
          "coloraxis": {
           "colorbar": {
            "outlinewidth": 0,
            "ticks": ""
           }
          },
          "colorscale": {
           "diverging": [
            [
             0,
             "#8e0152"
            ],
            [
             0.1,
             "#c51b7d"
            ],
            [
             0.2,
             "#de77ae"
            ],
            [
             0.3,
             "#f1b6da"
            ],
            [
             0.4,
             "#fde0ef"
            ],
            [
             0.5,
             "#f7f7f7"
            ],
            [
             0.6,
             "#e6f5d0"
            ],
            [
             0.7,
             "#b8e186"
            ],
            [
             0.8,
             "#7fbc41"
            ],
            [
             0.9,
             "#4d9221"
            ],
            [
             1,
             "#276419"
            ]
           ],
           "sequential": [
            [
             0,
             "#0d0887"
            ],
            [
             0.1111111111111111,
             "#46039f"
            ],
            [
             0.2222222222222222,
             "#7201a8"
            ],
            [
             0.3333333333333333,
             "#9c179e"
            ],
            [
             0.4444444444444444,
             "#bd3786"
            ],
            [
             0.5555555555555556,
             "#d8576b"
            ],
            [
             0.6666666666666666,
             "#ed7953"
            ],
            [
             0.7777777777777778,
             "#fb9f3a"
            ],
            [
             0.8888888888888888,
             "#fdca26"
            ],
            [
             1,
             "#f0f921"
            ]
           ],
           "sequentialminus": [
            [
             0,
             "#0d0887"
            ],
            [
             0.1111111111111111,
             "#46039f"
            ],
            [
             0.2222222222222222,
             "#7201a8"
            ],
            [
             0.3333333333333333,
             "#9c179e"
            ],
            [
             0.4444444444444444,
             "#bd3786"
            ],
            [
             0.5555555555555556,
             "#d8576b"
            ],
            [
             0.6666666666666666,
             "#ed7953"
            ],
            [
             0.7777777777777778,
             "#fb9f3a"
            ],
            [
             0.8888888888888888,
             "#fdca26"
            ],
            [
             1,
             "#f0f921"
            ]
           ]
          },
          "colorway": [
           "#636efa",
           "#EF553B",
           "#00cc96",
           "#ab63fa",
           "#FFA15A",
           "#19d3f3",
           "#FF6692",
           "#B6E880",
           "#FF97FF",
           "#FECB52"
          ],
          "font": {
           "color": "#2a3f5f"
          },
          "geo": {
           "bgcolor": "white",
           "lakecolor": "white",
           "landcolor": "#E5ECF6",
           "showlakes": true,
           "showland": true,
           "subunitcolor": "white"
          },
          "hoverlabel": {
           "align": "left"
          },
          "hovermode": "closest",
          "mapbox": {
           "style": "light"
          },
          "paper_bgcolor": "white",
          "plot_bgcolor": "#E5ECF6",
          "polar": {
           "angularaxis": {
            "gridcolor": "white",
            "linecolor": "white",
            "ticks": ""
           },
           "bgcolor": "#E5ECF6",
           "radialaxis": {
            "gridcolor": "white",
            "linecolor": "white",
            "ticks": ""
           }
          },
          "scene": {
           "xaxis": {
            "backgroundcolor": "#E5ECF6",
            "gridcolor": "white",
            "gridwidth": 2,
            "linecolor": "white",
            "showbackground": true,
            "ticks": "",
            "zerolinecolor": "white"
           },
           "yaxis": {
            "backgroundcolor": "#E5ECF6",
            "gridcolor": "white",
            "gridwidth": 2,
            "linecolor": "white",
            "showbackground": true,
            "ticks": "",
            "zerolinecolor": "white"
           },
           "zaxis": {
            "backgroundcolor": "#E5ECF6",
            "gridcolor": "white",
            "gridwidth": 2,
            "linecolor": "white",
            "showbackground": true,
            "ticks": "",
            "zerolinecolor": "white"
           }
          },
          "shapedefaults": {
           "line": {
            "color": "#2a3f5f"
           }
          },
          "ternary": {
           "aaxis": {
            "gridcolor": "white",
            "linecolor": "white",
            "ticks": ""
           },
           "baxis": {
            "gridcolor": "white",
            "linecolor": "white",
            "ticks": ""
           },
           "bgcolor": "#E5ECF6",
           "caxis": {
            "gridcolor": "white",
            "linecolor": "white",
            "ticks": ""
           }
          },
          "title": {
           "x": 0.05
          },
          "xaxis": {
           "automargin": true,
           "gridcolor": "white",
           "linecolor": "white",
           "ticks": "",
           "title": {
            "standoff": 15
           },
           "zerolinecolor": "white",
           "zerolinewidth": 2
          },
          "yaxis": {
           "automargin": true,
           "gridcolor": "white",
           "linecolor": "white",
           "ticks": "",
           "title": {
            "standoff": 15
           },
           "zerolinecolor": "white",
           "zerolinewidth": 2
          }
         }
        },
        "title": {
         "text": "Average words per review by country"
        }
       }
      }
     },
     "metadata": {},
     "output_type": "display_data"
    }
   ],
   "source": [
    "fig = go.Figure(data=go.Choropleth(\n",
    "    locations = temp2['Alpha-3 code'],\n",
    "    z = temp2['mean'],\n",
    "    text = temp2['Reviewer_Nationality'],\n",
    "    autocolorscale=False,\n",
    "    marker_line_color='darkgray',\n",
    "    marker_line_width=1,\n",
    "    colorscale='RdYlGn',\n",
    "    colorbar_title = 'Reviewscore'))\n",
    "fig.update_layout(\n",
    "    margin=dict(l=2, r=2, t=50, b=50),\n",
    "    title_text='Average words per review by country',\n",
    "    annotations= [dict(x=0.5,y=-0.1,text=\"Source: <a href='https://www.kaggle.com/datasets/jiashenliu/515k-hotel-reviews-data-in-europe'> 515K Hotel Reviews Data in Europe (booking.com)\",showarrow=False)],\n",
    "    geo=dict(\n",
    "        showframe=False,\n",
    "        showland=True,\n",
    "        showcoastlines=False,\n",
    "        projection_type='equirectangular' # 'orthographic' \n",
    "        \n",
    "    ))\n",
    "#fig.write_html('data/hej4')\n"
   ]
  },
  {
   "cell_type": "code",
   "execution_count": 46,
   "metadata": {},
   "outputs": [],
   "source": [
    "testtest =reviews.groupby(['Reviewer_Nationality','Country_Name'])['Reviewer_Score'].mean().to_frame()"
   ]
  },
  {
   "cell_type": "code",
   "execution_count": 47,
   "metadata": {},
   "outputs": [
    {
     "data": {
      "text/html": [
       "<div>\n",
       "<style scoped>\n",
       "    .dataframe tbody tr th:only-of-type {\n",
       "        vertical-align: middle;\n",
       "    }\n",
       "\n",
       "    .dataframe tbody tr th {\n",
       "        vertical-align: top;\n",
       "    }\n",
       "\n",
       "    .dataframe thead th {\n",
       "        text-align: right;\n",
       "    }\n",
       "</style>\n",
       "<table border=\"1\" class=\"dataframe\">\n",
       "  <thead>\n",
       "    <tr style=\"text-align: right;\">\n",
       "      <th></th>\n",
       "      <th>Reviewer_Score</th>\n",
       "    </tr>\n",
       "    <tr>\n",
       "      <th>Reviewer_Nationality</th>\n",
       "      <th></th>\n",
       "    </tr>\n",
       "  </thead>\n",
       "  <tbody>\n",
       "    <tr>\n",
       "      <th></th>\n",
       "      <td>8.350725</td>\n",
       "    </tr>\n",
       "    <tr>\n",
       "      <th>Afghanistan</th>\n",
       "      <td>8.300000</td>\n",
       "    </tr>\n",
       "    <tr>\n",
       "      <th>Albania</th>\n",
       "      <td>8.376471</td>\n",
       "    </tr>\n",
       "    <tr>\n",
       "      <th>Algeria</th>\n",
       "      <td>8.633333</td>\n",
       "    </tr>\n",
       "    <tr>\n",
       "      <th>American Samoa</th>\n",
       "      <td>6.700000</td>\n",
       "    </tr>\n",
       "    <tr>\n",
       "      <th>Andorra</th>\n",
       "      <td>9.600000</td>\n",
       "    </tr>\n",
       "    <tr>\n",
       "      <th>Angola</th>\n",
       "      <td>8.900000</td>\n",
       "    </tr>\n",
       "    <tr>\n",
       "      <th>...</th>\n",
       "      <td>...</td>\n",
       "    </tr>\n",
       "    <tr>\n",
       "      <th>Vatican City</th>\n",
       "      <td>7.900000</td>\n",
       "    </tr>\n",
       "    <tr>\n",
       "      <th>Venezuela</th>\n",
       "      <td>9.307692</td>\n",
       "    </tr>\n",
       "    <tr>\n",
       "      <th>Vietnam</th>\n",
       "      <td>8.321154</td>\n",
       "    </tr>\n",
       "    <tr>\n",
       "      <th>Wallis and Futuna</th>\n",
       "      <td>9.600000</td>\n",
       "    </tr>\n",
       "    <tr>\n",
       "      <th>Yemen</th>\n",
       "      <td>9.600000</td>\n",
       "    </tr>\n",
       "    <tr>\n",
       "      <th>Zambia</th>\n",
       "      <td>10.000000</td>\n",
       "    </tr>\n",
       "    <tr>\n",
       "      <th>Zimbabwe</th>\n",
       "      <td>8.766667</td>\n",
       "    </tr>\n",
       "  </tbody>\n",
       "</table>\n",
       "<p>221 rows × 1 columns</p>\n",
       "</div>"
      ],
      "text/plain": [
       "                      Reviewer_Score\n",
       "Reviewer_Nationality                \n",
       "                            8.350725\n",
       "Afghanistan                 8.300000\n",
       "Albania                     8.376471\n",
       "Algeria                     8.633333\n",
       "American Samoa              6.700000\n",
       "Andorra                     9.600000\n",
       "Angola                      8.900000\n",
       "...                              ...\n",
       "Vatican City                7.900000\n",
       "Venezuela                   9.307692\n",
       "Vietnam                     8.321154\n",
       "Wallis and Futuna           9.600000\n",
       "Yemen                       9.600000\n",
       "Zambia                     10.000000\n",
       "Zimbabwe                    8.766667\n",
       "\n",
       "[221 rows x 1 columns]"
      ]
     },
     "execution_count": 47,
     "metadata": {},
     "output_type": "execute_result"
    }
   ],
   "source": [
    "testtest.groupby(level=0).max()"
   ]
  },
  {
   "cell_type": "code",
   "execution_count": 48,
   "metadata": {},
   "outputs": [],
   "source": [
    "testgb = testtest.groupby(level=0).idxmax(axis='index').merge(testtest.groupby(level=0).max(),on='Reviewer_Nationality')['Reviewer_Score_x'].to_frame()"
   ]
  },
  {
   "cell_type": "code",
   "execution_count": 49,
   "metadata": {},
   "outputs": [],
   "source": [
    "testgb['Land'] = [y for x,y in list(testtest.groupby(level=0).idxmax(axis='index').merge(testtest.groupby(level=0).max(),on='Reviewer_Nationality')['Reviewer_Score_x'])]"
   ]
  },
  {
   "cell_type": "code",
   "execution_count": 50,
   "metadata": {},
   "outputs": [],
   "source": [
    "testgb['Score'] = testtest.groupby(level=0).max()['Reviewer_Score']\n"
   ]
  },
  {
   "cell_type": "code",
   "execution_count": 51,
   "metadata": {},
   "outputs": [],
   "source": [
    "testgb.drop(columns=('Reviewer_Score_x'),inplace=True)"
   ]
  },
  {
   "cell_type": "code",
   "execution_count": 52,
   "metadata": {},
   "outputs": [],
   "source": [
    "testgb.reset_index(inplace=True)\n",
    "testgb.drop(testgb.loc[testgb['Reviewer_Nationality'] == ''].index,axis=0,inplace=True)"
   ]
  },
  {
   "cell_type": "code",
   "execution_count": 53,
   "metadata": {},
   "outputs": [],
   "source": [
    "test2 = testgb.merge(cc,on='Reviewer_Nationality')[['Reviewer_Nationality','Land','Score','Alpha-3 code']]"
   ]
  },
  {
   "cell_type": "markdown",
   "metadata": {},
   "source": [
    "### -------"
   ]
  },
  {
   "cell_type": "code",
   "execution_count": 54,
   "metadata": {},
   "outputs": [],
   "source": [
    "test3 = test2.groupby('Land').size().to_frame()"
   ]
  },
  {
   "cell_type": "code",
   "execution_count": 55,
   "metadata": {},
   "outputs": [],
   "source": [
    "test3.reset_index(inplace=True)"
   ]
  },
  {
   "cell_type": "code",
   "execution_count": 56,
   "metadata": {},
   "outputs": [],
   "source": [
    "test3.rename(columns={0:'size'},inplace=True)"
   ]
  },
  {
   "cell_type": "code",
   "execution_count": 57,
   "metadata": {},
   "outputs": [],
   "source": [
    "fig9 = px.bar(temp2.sort_values(by='mean',ascending=False).head(5),x='Reviewer_Nationality',y='mean',color='Reviewer_Nationality',range_y=(30,50.9))"
   ]
  },
  {
   "cell_type": "code",
   "execution_count": 58,
   "metadata": {},
   "outputs": [
    {
     "data": {
      "application/vnd.plotly.v1+json": {
       "config": {
        "plotlyServerURL": "https://plot.ly"
       },
       "data": [
        {
         "alignmentgroup": "True",
         "hovertemplate": "Reviewer_Nationality=%{x}<br>mean=%{y}<extra></extra>",
         "legendgroup": "Malawi",
         "marker": {
          "color": "#636efa",
          "pattern": {
           "shape": ""
          }
         },
         "name": "Malawi",
         "offsetgroup": "Malawi",
         "orientation": "v",
         "showlegend": true,
         "textposition": "auto",
         "type": "bar",
         "x": [
          "Malawi"
         ],
         "xaxis": "x",
         "y": [
          51
         ],
         "yaxis": "y"
        },
        {
         "alignmentgroup": "True",
         "hovertemplate": "Reviewer_Nationality=%{x}<br>mean=%{y}<extra></extra>",
         "legendgroup": "Belarus",
         "marker": {
          "color": "#EF553B",
          "pattern": {
           "shape": ""
          }
         },
         "name": "Belarus",
         "offsetgroup": "Belarus",
         "orientation": "v",
         "showlegend": true,
         "textposition": "auto",
         "type": "bar",
         "x": [
          "Belarus"
         ],
         "xaxis": "x",
         "y": [
          45
         ],
         "yaxis": "y"
        },
        {
         "alignmentgroup": "True",
         "hovertemplate": "Reviewer_Nationality=%{x}<br>mean=%{y}<extra></extra>",
         "legendgroup": "Vanuatu",
         "marker": {
          "color": "#00cc96",
          "pattern": {
           "shape": ""
          }
         },
         "name": "Vanuatu",
         "offsetgroup": "Vanuatu",
         "orientation": "v",
         "showlegend": true,
         "textposition": "auto",
         "type": "bar",
         "x": [
          "Vanuatu"
         ],
         "xaxis": "x",
         "y": [
          45
         ],
         "yaxis": "y"
        },
        {
         "alignmentgroup": "True",
         "hovertemplate": "Reviewer_Nationality=%{x}<br>mean=%{y}<extra></extra>",
         "legendgroup": "Rwanda",
         "marker": {
          "color": "#ab63fa",
          "pattern": {
           "shape": ""
          }
         },
         "name": "Rwanda",
         "offsetgroup": "Rwanda",
         "orientation": "v",
         "showlegend": true,
         "textposition": "auto",
         "type": "bar",
         "x": [
          "Rwanda"
         ],
         "xaxis": "x",
         "y": [
          44
         ],
         "yaxis": "y"
        },
        {
         "alignmentgroup": "True",
         "hovertemplate": "Reviewer_Nationality=%{x}<br>mean=%{y}<extra></extra>",
         "legendgroup": "Cayman Islands",
         "marker": {
          "color": "#FFA15A",
          "pattern": {
           "shape": ""
          }
         },
         "name": "Cayman Islands",
         "offsetgroup": "Cayman Islands",
         "orientation": "v",
         "showlegend": true,
         "textposition": "auto",
         "type": "bar",
         "x": [
          "Cayman Islands"
         ],
         "xaxis": "x",
         "y": [
          43
         ],
         "yaxis": "y"
        }
       ],
       "layout": {
        "barmode": "relative",
        "legend": {
         "title": {
          "text": "Reviewer_Nationality"
         },
         "tracegroupgap": 0
        },
        "margin": {
         "t": 60
        },
        "template": {
         "data": {
          "bar": [
           {
            "error_x": {
             "color": "#2a3f5f"
            },
            "error_y": {
             "color": "#2a3f5f"
            },
            "marker": {
             "line": {
              "color": "#E5ECF6",
              "width": 0.5
             },
             "pattern": {
              "fillmode": "overlay",
              "size": 10,
              "solidity": 0.2
             }
            },
            "type": "bar"
           }
          ],
          "barpolar": [
           {
            "marker": {
             "line": {
              "color": "#E5ECF6",
              "width": 0.5
             },
             "pattern": {
              "fillmode": "overlay",
              "size": 10,
              "solidity": 0.2
             }
            },
            "type": "barpolar"
           }
          ],
          "carpet": [
           {
            "aaxis": {
             "endlinecolor": "#2a3f5f",
             "gridcolor": "white",
             "linecolor": "white",
             "minorgridcolor": "white",
             "startlinecolor": "#2a3f5f"
            },
            "baxis": {
             "endlinecolor": "#2a3f5f",
             "gridcolor": "white",
             "linecolor": "white",
             "minorgridcolor": "white",
             "startlinecolor": "#2a3f5f"
            },
            "type": "carpet"
           }
          ],
          "choropleth": [
           {
            "colorbar": {
             "outlinewidth": 0,
             "ticks": ""
            },
            "type": "choropleth"
           }
          ],
          "contour": [
           {
            "colorbar": {
             "outlinewidth": 0,
             "ticks": ""
            },
            "colorscale": [
             [
              0,
              "#0d0887"
             ],
             [
              0.1111111111111111,
              "#46039f"
             ],
             [
              0.2222222222222222,
              "#7201a8"
             ],
             [
              0.3333333333333333,
              "#9c179e"
             ],
             [
              0.4444444444444444,
              "#bd3786"
             ],
             [
              0.5555555555555556,
              "#d8576b"
             ],
             [
              0.6666666666666666,
              "#ed7953"
             ],
             [
              0.7777777777777778,
              "#fb9f3a"
             ],
             [
              0.8888888888888888,
              "#fdca26"
             ],
             [
              1,
              "#f0f921"
             ]
            ],
            "type": "contour"
           }
          ],
          "contourcarpet": [
           {
            "colorbar": {
             "outlinewidth": 0,
             "ticks": ""
            },
            "type": "contourcarpet"
           }
          ],
          "heatmap": [
           {
            "colorbar": {
             "outlinewidth": 0,
             "ticks": ""
            },
            "colorscale": [
             [
              0,
              "#0d0887"
             ],
             [
              0.1111111111111111,
              "#46039f"
             ],
             [
              0.2222222222222222,
              "#7201a8"
             ],
             [
              0.3333333333333333,
              "#9c179e"
             ],
             [
              0.4444444444444444,
              "#bd3786"
             ],
             [
              0.5555555555555556,
              "#d8576b"
             ],
             [
              0.6666666666666666,
              "#ed7953"
             ],
             [
              0.7777777777777778,
              "#fb9f3a"
             ],
             [
              0.8888888888888888,
              "#fdca26"
             ],
             [
              1,
              "#f0f921"
             ]
            ],
            "type": "heatmap"
           }
          ],
          "heatmapgl": [
           {
            "colorbar": {
             "outlinewidth": 0,
             "ticks": ""
            },
            "colorscale": [
             [
              0,
              "#0d0887"
             ],
             [
              0.1111111111111111,
              "#46039f"
             ],
             [
              0.2222222222222222,
              "#7201a8"
             ],
             [
              0.3333333333333333,
              "#9c179e"
             ],
             [
              0.4444444444444444,
              "#bd3786"
             ],
             [
              0.5555555555555556,
              "#d8576b"
             ],
             [
              0.6666666666666666,
              "#ed7953"
             ],
             [
              0.7777777777777778,
              "#fb9f3a"
             ],
             [
              0.8888888888888888,
              "#fdca26"
             ],
             [
              1,
              "#f0f921"
             ]
            ],
            "type": "heatmapgl"
           }
          ],
          "histogram": [
           {
            "marker": {
             "pattern": {
              "fillmode": "overlay",
              "size": 10,
              "solidity": 0.2
             }
            },
            "type": "histogram"
           }
          ],
          "histogram2d": [
           {
            "colorbar": {
             "outlinewidth": 0,
             "ticks": ""
            },
            "colorscale": [
             [
              0,
              "#0d0887"
             ],
             [
              0.1111111111111111,
              "#46039f"
             ],
             [
              0.2222222222222222,
              "#7201a8"
             ],
             [
              0.3333333333333333,
              "#9c179e"
             ],
             [
              0.4444444444444444,
              "#bd3786"
             ],
             [
              0.5555555555555556,
              "#d8576b"
             ],
             [
              0.6666666666666666,
              "#ed7953"
             ],
             [
              0.7777777777777778,
              "#fb9f3a"
             ],
             [
              0.8888888888888888,
              "#fdca26"
             ],
             [
              1,
              "#f0f921"
             ]
            ],
            "type": "histogram2d"
           }
          ],
          "histogram2dcontour": [
           {
            "colorbar": {
             "outlinewidth": 0,
             "ticks": ""
            },
            "colorscale": [
             [
              0,
              "#0d0887"
             ],
             [
              0.1111111111111111,
              "#46039f"
             ],
             [
              0.2222222222222222,
              "#7201a8"
             ],
             [
              0.3333333333333333,
              "#9c179e"
             ],
             [
              0.4444444444444444,
              "#bd3786"
             ],
             [
              0.5555555555555556,
              "#d8576b"
             ],
             [
              0.6666666666666666,
              "#ed7953"
             ],
             [
              0.7777777777777778,
              "#fb9f3a"
             ],
             [
              0.8888888888888888,
              "#fdca26"
             ],
             [
              1,
              "#f0f921"
             ]
            ],
            "type": "histogram2dcontour"
           }
          ],
          "mesh3d": [
           {
            "colorbar": {
             "outlinewidth": 0,
             "ticks": ""
            },
            "type": "mesh3d"
           }
          ],
          "parcoords": [
           {
            "line": {
             "colorbar": {
              "outlinewidth": 0,
              "ticks": ""
             }
            },
            "type": "parcoords"
           }
          ],
          "pie": [
           {
            "automargin": true,
            "type": "pie"
           }
          ],
          "scatter": [
           {
            "fillpattern": {
             "fillmode": "overlay",
             "size": 10,
             "solidity": 0.2
            },
            "type": "scatter"
           }
          ],
          "scatter3d": [
           {
            "line": {
             "colorbar": {
              "outlinewidth": 0,
              "ticks": ""
             }
            },
            "marker": {
             "colorbar": {
              "outlinewidth": 0,
              "ticks": ""
             }
            },
            "type": "scatter3d"
           }
          ],
          "scattercarpet": [
           {
            "marker": {
             "colorbar": {
              "outlinewidth": 0,
              "ticks": ""
             }
            },
            "type": "scattercarpet"
           }
          ],
          "scattergeo": [
           {
            "marker": {
             "colorbar": {
              "outlinewidth": 0,
              "ticks": ""
             }
            },
            "type": "scattergeo"
           }
          ],
          "scattergl": [
           {
            "marker": {
             "colorbar": {
              "outlinewidth": 0,
              "ticks": ""
             }
            },
            "type": "scattergl"
           }
          ],
          "scattermapbox": [
           {
            "marker": {
             "colorbar": {
              "outlinewidth": 0,
              "ticks": ""
             }
            },
            "type": "scattermapbox"
           }
          ],
          "scatterpolar": [
           {
            "marker": {
             "colorbar": {
              "outlinewidth": 0,
              "ticks": ""
             }
            },
            "type": "scatterpolar"
           }
          ],
          "scatterpolargl": [
           {
            "marker": {
             "colorbar": {
              "outlinewidth": 0,
              "ticks": ""
             }
            },
            "type": "scatterpolargl"
           }
          ],
          "scatterternary": [
           {
            "marker": {
             "colorbar": {
              "outlinewidth": 0,
              "ticks": ""
             }
            },
            "type": "scatterternary"
           }
          ],
          "surface": [
           {
            "colorbar": {
             "outlinewidth": 0,
             "ticks": ""
            },
            "colorscale": [
             [
              0,
              "#0d0887"
             ],
             [
              0.1111111111111111,
              "#46039f"
             ],
             [
              0.2222222222222222,
              "#7201a8"
             ],
             [
              0.3333333333333333,
              "#9c179e"
             ],
             [
              0.4444444444444444,
              "#bd3786"
             ],
             [
              0.5555555555555556,
              "#d8576b"
             ],
             [
              0.6666666666666666,
              "#ed7953"
             ],
             [
              0.7777777777777778,
              "#fb9f3a"
             ],
             [
              0.8888888888888888,
              "#fdca26"
             ],
             [
              1,
              "#f0f921"
             ]
            ],
            "type": "surface"
           }
          ],
          "table": [
           {
            "cells": {
             "fill": {
              "color": "#EBF0F8"
             },
             "line": {
              "color": "white"
             }
            },
            "header": {
             "fill": {
              "color": "#C8D4E3"
             },
             "line": {
              "color": "white"
             }
            },
            "type": "table"
           }
          ]
         },
         "layout": {
          "annotationdefaults": {
           "arrowcolor": "#2a3f5f",
           "arrowhead": 0,
           "arrowwidth": 1
          },
          "autotypenumbers": "strict",
          "coloraxis": {
           "colorbar": {
            "outlinewidth": 0,
            "ticks": ""
           }
          },
          "colorscale": {
           "diverging": [
            [
             0,
             "#8e0152"
            ],
            [
             0.1,
             "#c51b7d"
            ],
            [
             0.2,
             "#de77ae"
            ],
            [
             0.3,
             "#f1b6da"
            ],
            [
             0.4,
             "#fde0ef"
            ],
            [
             0.5,
             "#f7f7f7"
            ],
            [
             0.6,
             "#e6f5d0"
            ],
            [
             0.7,
             "#b8e186"
            ],
            [
             0.8,
             "#7fbc41"
            ],
            [
             0.9,
             "#4d9221"
            ],
            [
             1,
             "#276419"
            ]
           ],
           "sequential": [
            [
             0,
             "#0d0887"
            ],
            [
             0.1111111111111111,
             "#46039f"
            ],
            [
             0.2222222222222222,
             "#7201a8"
            ],
            [
             0.3333333333333333,
             "#9c179e"
            ],
            [
             0.4444444444444444,
             "#bd3786"
            ],
            [
             0.5555555555555556,
             "#d8576b"
            ],
            [
             0.6666666666666666,
             "#ed7953"
            ],
            [
             0.7777777777777778,
             "#fb9f3a"
            ],
            [
             0.8888888888888888,
             "#fdca26"
            ],
            [
             1,
             "#f0f921"
            ]
           ],
           "sequentialminus": [
            [
             0,
             "#0d0887"
            ],
            [
             0.1111111111111111,
             "#46039f"
            ],
            [
             0.2222222222222222,
             "#7201a8"
            ],
            [
             0.3333333333333333,
             "#9c179e"
            ],
            [
             0.4444444444444444,
             "#bd3786"
            ],
            [
             0.5555555555555556,
             "#d8576b"
            ],
            [
             0.6666666666666666,
             "#ed7953"
            ],
            [
             0.7777777777777778,
             "#fb9f3a"
            ],
            [
             0.8888888888888888,
             "#fdca26"
            ],
            [
             1,
             "#f0f921"
            ]
           ]
          },
          "colorway": [
           "#636efa",
           "#EF553B",
           "#00cc96",
           "#ab63fa",
           "#FFA15A",
           "#19d3f3",
           "#FF6692",
           "#B6E880",
           "#FF97FF",
           "#FECB52"
          ],
          "font": {
           "color": "#2a3f5f"
          },
          "geo": {
           "bgcolor": "white",
           "lakecolor": "white",
           "landcolor": "#E5ECF6",
           "showlakes": true,
           "showland": true,
           "subunitcolor": "white"
          },
          "hoverlabel": {
           "align": "left"
          },
          "hovermode": "closest",
          "mapbox": {
           "style": "light"
          },
          "paper_bgcolor": "white",
          "plot_bgcolor": "#E5ECF6",
          "polar": {
           "angularaxis": {
            "gridcolor": "white",
            "linecolor": "white",
            "ticks": ""
           },
           "bgcolor": "#E5ECF6",
           "radialaxis": {
            "gridcolor": "white",
            "linecolor": "white",
            "ticks": ""
           }
          },
          "scene": {
           "xaxis": {
            "backgroundcolor": "#E5ECF6",
            "gridcolor": "white",
            "gridwidth": 2,
            "linecolor": "white",
            "showbackground": true,
            "ticks": "",
            "zerolinecolor": "white"
           },
           "yaxis": {
            "backgroundcolor": "#E5ECF6",
            "gridcolor": "white",
            "gridwidth": 2,
            "linecolor": "white",
            "showbackground": true,
            "ticks": "",
            "zerolinecolor": "white"
           },
           "zaxis": {
            "backgroundcolor": "#E5ECF6",
            "gridcolor": "white",
            "gridwidth": 2,
            "linecolor": "white",
            "showbackground": true,
            "ticks": "",
            "zerolinecolor": "white"
           }
          },
          "shapedefaults": {
           "line": {
            "color": "#2a3f5f"
           }
          },
          "ternary": {
           "aaxis": {
            "gridcolor": "white",
            "linecolor": "white",
            "ticks": ""
           },
           "baxis": {
            "gridcolor": "white",
            "linecolor": "white",
            "ticks": ""
           },
           "bgcolor": "#E5ECF6",
           "caxis": {
            "gridcolor": "white",
            "linecolor": "white",
            "ticks": ""
           }
          },
          "title": {
           "x": 0.05
          },
          "xaxis": {
           "automargin": true,
           "gridcolor": "white",
           "linecolor": "white",
           "ticks": "",
           "title": {
            "standoff": 15
           },
           "zerolinecolor": "white",
           "zerolinewidth": 2
          },
          "yaxis": {
           "automargin": true,
           "gridcolor": "white",
           "linecolor": "white",
           "ticks": "",
           "title": {
            "standoff": 15
           },
           "zerolinecolor": "white",
           "zerolinewidth": 2
          }
         }
        },
        "xaxis": {
         "anchor": "y",
         "categoryarray": [
          "Malawi",
          "Belarus",
          "Vanuatu",
          "Rwanda",
          "Cayman Islands"
         ],
         "categoryorder": "array",
         "domain": [
          0,
          1
         ],
         "title": {
          "text": "Reviewer_Nationality"
         }
        },
        "yaxis": {
         "anchor": "x",
         "domain": [
          0,
          1
         ],
         "range": [
          30,
          50.9
         ],
         "title": {
          "text": "mean"
         }
        }
       }
      }
     },
     "metadata": {},
     "output_type": "display_data"
    }
   ],
   "source": [
    "fig9"
   ]
  },
  {
   "cell_type": "code",
   "execution_count": null,
   "metadata": {},
   "outputs": [],
   "source": []
  },
  {
   "cell_type": "code",
   "execution_count": 59,
   "metadata": {},
   "outputs": [],
   "source": [
    "testtest12 =reviews.groupby('Reviewer_Nationality')['Reviewer_Score'].mean().sort_values().reset_index()"
   ]
  },
  {
   "cell_type": "code",
   "execution_count": 60,
   "metadata": {},
   "outputs": [
    {
     "name": "stdout",
     "output_type": "stream",
     "text": [
      "Dash is running on http://127.0.0.1:8050/\n",
      "\n",
      " * Serving Flask app \"__main__\" (lazy loading)\n",
      " * Environment: production\n",
      "\u001b[31m   WARNING: This is a development server. Do not use it in a production deployment.\u001b[0m\n",
      "\u001b[2m   Use a production WSGI server instead.\u001b[0m\n",
      " * Debug mode: on\n"
     ]
    }
   ],
   "source": [
    "\n",
    "\n",
    "colors = {\n",
    "    'background': '#ab8080',\n",
    "    'text': '#000000'\n",
    "}\n",
    "\n",
    "external_stylesheets = ['https://codepen.io/chriddyp/pen/bWLwgP.css']\n",
    "\n",
    "app = dash.Dash(__name__, external_stylesheets=external_stylesheets)\n",
    "\n",
    "\n",
    "fig = go.Figure(data=go.Choropleth(\n",
    "    locations = asn['Alpha-3 code'],\n",
    "    z = asn['Reviewer_Score'],\n",
    "    text = asn['Reviewer_Nationality'],\n",
    "    autocolorscale=False,\n",
    "    marker_line_color='darkgray',\n",
    "    marker_line_width=1,\n",
    "    colorscale='RdYlGn',\n",
    "    colorbar_title = 'Reviewscore'))\n",
    "\n",
    "fig2 = go.Figure(data=go.Choropleth(\n",
    "    locations = topwwrcc['Alpha-3 code'],\n",
    "    z = topwwrcc['prolle'],\n",
    "    text = topwwrcc['Country_Name'],\n",
    "    autocolorscale=False,\n",
    "    marker_line_color='darkgray',\n",
    "    marker_line_width=1,\n",
    "    colorscale=[(0,'Red'),(0.5,'Yellow'),(1,'green')],\n",
    "    colorbar_title = 'Percentage'))\n",
    "\n",
    "fig3 = go.Figure(data=go.Choropleth(\n",
    "    locations = temp2['Alpha-3 code'],\n",
    "    z = temp2['mean'],\n",
    "    text = temp2['Reviewer_Nationality'],\n",
    "    autocolorscale=False,\n",
    "    marker_line_color='darkgray',\n",
    "    marker_line_width=1,\n",
    "    colorscale='RdYlGn',\n",
    "    colorbar_title = 'Reviewscore'))\n",
    "\n",
    "\n",
    "\n",
    "fig5 = px.choropleth(test2, color=\"Land\",\n",
    "                    locations=\"Alpha-3 code\",\n",
    "                    projection=\"equirectangular\", hover_data=[\"Reviewer_Nationality\"],locationmode='ISO-3',title='Highest reviewed country by country',width=1200\n",
    "                   )\n",
    "\n",
    "fig6 = px.bar(test3, x='Land', y='size',\n",
    "             hover_data=['size', 'Land'], color='Land',text_auto='size', height=800,color_discrete_map = {'United Kingdom': '#18d2f3', 'Spain': '#fea15a', 'France': '#ab63fa','Austria':'#01cc95','Italy':'#ef553c','Netherlands':'#636efa'}).update_xaxes(categoryorder='total descending')\n",
    "\n",
    "fig7 = px.bar(asn.sort_values(by='Reviewer_Score',ascending=False).head(5), x='Reviewer_Nationality', y='Reviewer_Score',\n",
    "             hover_data=['Reviewer_Score', 'Reviewer_Nationality'], color='Reviewer_Nationality', height=800,range_y=(9,9.36),title='Highest average score awarded by country',text_auto='Reviewer_Score',labels=dict(Reviewer_Nationality=\"Country\", Reviewer_Score=\"Score\")).update_xaxes(categoryorder='total descending')\n",
    "            \n",
    "fig8 = px.bar(asn.sort_values(by='Reviewer_Score',ascending=False).tail(5), x='Reviewer_Nationality', y='Reviewer_Score',\n",
    "             hover_data=['Reviewer_Score', 'Reviewer_Nationality'], color='Reviewer_Nationality', height=800,range_y=(6,7.23),title='Lowest average score awarded by country',text_auto='Reviewer_Score',labels=dict(Reviewer_Nationality=\"Country\", Reviewer_Score=\"Score\")).update_xaxes(categoryorder='total ascending')            \n",
    "\n",
    "fig9 = px.bar(temp2.sort_values(by='mean',ascending=False).head(5),x='Reviewer_Nationality',y='mean',color='Reviewer_Nationality',range_y=(30,50.9),hover_data=['mean','Reviewer_Nationality'],height=800,text_auto='mean',labels=dict(Reviewer_Nationality='Country',mean='Word Count'))\n",
    "\n",
    "fig10 = px.bar(temp2.sort_values(by='mean',ascending=False).tail(5),x='Reviewer_Nationality',y='mean',color='Reviewer_Nationality',range_y=(0,16),hover_data=['mean','Reviewer_Nationality'],height=800,text_auto='mean',labels=dict(Reviewer_Nationality='Country',mean='Word Count')).update_xaxes(categoryorder='total ascending')\n",
    "\n",
    "fig11 = px.bar(topwwrcc.sort_values(by='prolle',ascending=False),x='Country_Name',y='prolle',text_auto='prolle',color='Country_Name',range_y=(10,25),hover_data=['prolle','Country_Name'],labels=dict(Country_Name='Country',prolle='Percent'),height=800)\n",
    "\n",
    "\n",
    "\n",
    "\n",
    "app.layout = html.Div(children=[\n",
    "    html.Div([\n",
    "        html.H1(children='Exploratory Analysis of booking.com reviews'),\n",
    "\n",
    "        html.Div(children='''\n",
    "        '''),\n",
    "\n",
    "        dcc.Graph(\n",
    "            id='graph1',\n",
    "            figure=fig\n",
    "        ),  \n",
    "    html.Div([\n",
    "        html.H1(children=''),\n",
    "\n",
    "        html.Div(children='''\n",
    "        '''),\n",
    "\n",
    "        dcc.Graph(\n",
    "            id='graph7',\n",
    "            figure=fig7\n",
    "        ),  \n",
    "    html.Div([\n",
    "        html.H1(children=''),\n",
    "\n",
    "        html.Div(children='''\n",
    "        '''),\n",
    "\n",
    "        dcc.Graph(\n",
    "            id='graph8',\n",
    "            figure=fig8\n",
    "        )  \n",
    "    ]),\n",
    "######\n",
    "    #######\n",
    "\n",
    "    html.Div([\n",
    "        html.H1(children=''),\n",
    "\n",
    "        html.Div(children='''\n",
    "        '''),\n",
    "\n",
    "        dcc.Graph(\n",
    "            id='graph3',\n",
    "            figure=fig3\n",
    "        )]),  \n",
    "    html.Div([\n",
    "        html.H1(children=''),\n",
    "\n",
    "        html.Div(children='''\n",
    "        '''),\n",
    "\n",
    "        dcc.Graph(\n",
    "            id='graph9',\n",
    "            figure=fig9\n",
    "        )]),  \n",
    "    html.Div([\n",
    "        html.H1(children=''),\n",
    "\n",
    "        html.Div(children='''\n",
    "        '''),\n",
    "\n",
    "        dcc.Graph(\n",
    "            id='graph10',\n",
    "            figure=fig10\n",
    "        )]),  \n",
    "    ]),  \n",
    "    \n",
    "    html.Div([\n",
    "        html.H1(children=''),\n",
    "\n",
    "        html.Div(children='''\n",
    "            \n",
    "        '''),\n",
    "\n",
    "        dcc.Graph(\n",
    "            id='graph5',\n",
    "            figure=fig5\n",
    "        )]),\n",
    "        html.Div([\n",
    "        html.H1(children=''),\n",
    "\n",
    "        html.Div(children='''\n",
    "            \n",
    "        '''),\n",
    "\n",
    "        dcc.Graph(\n",
    "            id='graph6',\n",
    "            figure=fig6)]),\n",
    "    \n",
    "     html.Div([\n",
    "        html.H1(children=''),\n",
    "\n",
    "        html.Div(children='''\n",
    "            \n",
    "        '''),\n",
    "\n",
    "        dcc.Graph(\n",
    "            id='graph2',\n",
    "            figure=fig2\n",
    "        )]),\n",
    "        html.Div([\n",
    "        \n",
    "        html.H1(children=''),\n",
    "\n",
    "        html.Div(children='''\n",
    "        '''),\n",
    "\n",
    "        dcc.Graph(\n",
    "            id='graph11',\n",
    "            figure=fig11\n",
    "        )])])])\n",
    "fig.update_layout(\n",
    "    margin=dict(l=2, r=2, t=50, b=50),\n",
    "    title_text='Average score awarded by country',\n",
    "    annotations= [dict(x=0.5,y=-0.1,text=\"Source: <a href='https://www.kaggle.com/datasets/jiashenliu/515k-hotel-reviews-data-in-europe'> 515K Hotel Reviews Data in Europe (booking.com)\",showarrow=False)],\n",
    "    geo=dict(\n",
    "        showframe=False,\n",
    "        showland=True,\n",
    "        showcoastlines=False,\n",
    "        projection_type='equirectangular' # 'orthographic' will make it globeeee\n",
    "        ),\n",
    "    font=dict(\n",
    "    family=\"Open Sans, verdana, arial, sans-serif\",\n",
    "    size=20,  # Set the font size here\n",
    "    color=\"Black\"))\n",
    "\n",
    "\n",
    "fig2.update_layout(\n",
    "    title_text='Percentage of Hotels with a score over 9',\n",
    "    margin=dict(l=2, r=2, t=50, b=5),\n",
    "    annotations= [dict(x=0.5,y=0.01,text=\"Source: <a href='https://www.kaggle.com/datasets/jiashenliu/515k-hotel-reviews-data-in-europe'> 515K Hotel Reviews Data in Europe (booking.com)\",showarrow=False)],\n",
    "    geo=dict(\n",
    "        showframe=False,\n",
    "        showcoastlines=False,\n",
    "        projection_type='equirectangular' # 'orthographic' will make it globeeee\n",
    "        ,scope='europe'),font=dict(\n",
    "        family=\"Open Sans, verdana, arial, sans-serif\",\n",
    "        size=20,  # Set the font size here\n",
    "        color=\"Black\")),\n",
    "fig3.update_layout(\n",
    "    margin=dict(l=2, r=2, t=50, b=50),\n",
    "    title_text='Average words per review by country',\n",
    "    annotations= [dict(x=0.5,y=-0.1,text=\"Source: <a href='https://www.kaggle.com/datasets/jiashenliu/515k-hotel-reviews-data-in-europe'> 515K Hotel Reviews Data in Europe (booking.com)\",showarrow=False)],\n",
    "    geo=dict(\n",
    "        showframe=False,\n",
    "        showland=True,\n",
    "        showcoastlines=False,\n",
    "        projection_type='equirectangular'),font=dict(\n",
    "        family=\"Open Sans, verdana, arial, sans-serif\",\n",
    "        size=20,  # Set the font size here\n",
    "        color=\"Black\")) # 'orthographic'\n",
    "    \n",
    "fig5.update_geos(fitbounds=\"locations\", visible=False)\n",
    "fig5.update_layout(margin={\"r\":10,\"t\":50,\"l\":10,\"b\":10},geo=dict(showland=True,showcoastlines=True),annotations=[dict(x=0.5,y=-0.04,text=\"Source: <a href='https://www.kaggle.com/datasets/jiashenliu/515k-hotel-reviews-data-in-europe'> 515K Hotel Reviews Data in Europe (booking.com)\",showarrow=False)],font=dict(\n",
    "        family=\"Open Sans, verdana, arial, sans-serif\",\n",
    "        size=20,  # Set the font size here\n",
    "        color=\"Black\"))\n",
    "\n",
    "fig6.update_layout(\n",
    "    font=dict(\n",
    "        family=\"Open Sans, verdana, arial, sans-serif\",\n",
    "        size=20,  # Set the font size here\n",
    "        color=\"Black\"))\n",
    "\n",
    "fig7.update_layout(\n",
    "    font=dict(\n",
    "        family=\"Open Sans, verdana, arial, sans-serif\",\n",
    "        size=20,  # Set the font size here\n",
    "        color=\"Black\"))\n",
    "fig8.update_layout(\n",
    "    font=dict(\n",
    "        family=\"Open Sans, verdana, arial, sans-serif\",\n",
    "        size=20,  # Set the font size here\n",
    "        color=\"Black\"))\n",
    "fig9.update_layout(\n",
    "    font=dict(\n",
    "        family=\"Open Sans, verdana, arial, sans-serif\",\n",
    "        size=20,  # Set the font size here\n",
    "        color=\"Black\"))\n",
    "\n",
    "fig10.update_layout(\n",
    "    font=dict(\n",
    "        family=\"Open Sans, verdana, arial, sans-serif\",\n",
    "        size=20,  # Set the font size here\n",
    "        color=\"Black\"))\n",
    "fig11.update_layout(\n",
    "    font=dict(\n",
    "        family=\"Open Sans, verdana, arial, sans-serif\",\n",
    "        size=20,  # Set the font size here\n",
    "        color=\"Black\"))\n",
    "\n",
    "\n",
    "if __name__ == '__main__':\n",
    "    app.run_server(debug=True,use_reloader=False)"
   ]
  }
 ],
 "metadata": {
  "kernelspec": {
   "display_name": "base",
   "language": "python",
   "name": "python3"
  },
  "language_info": {
   "codemirror_mode": {
    "name": "ipython",
    "version": 3
   },
   "file_extension": ".py",
   "mimetype": "text/x-python",
   "name": "python",
   "nbconvert_exporter": "python",
   "pygments_lexer": "ipython3",
   "version": "3.9.13"
  },
  "orig_nbformat": 4,
  "vscode": {
   "interpreter": {
    "hash": "6fa2796d21c3aa07ecca97ba637623e0566d1617f93372f84ddfee31207bef4c"
   }
  }
 },
 "nbformat": 4,
 "nbformat_minor": 2
}
